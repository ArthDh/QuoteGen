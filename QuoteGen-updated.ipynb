{
  "nbformat": 4,
  "nbformat_minor": 0,
  "metadata": {
    "colab": {
      "name": "QuoteGen.ipynb",
      "version": "0.3.2",
      "views": {},
      "default_view": {},
      "provenance": [],
      "collapsed_sections": []
    },
    "kernelspec": {
      "name": "python3",
      "display_name": "Python 3"
    },
    "accelerator": "GPU"
  },
  "cells": [
    {
      "metadata": {
        "id": "2dIwkqRNsBqM",
        "colab_type": "code",
        "colab": {
          "autoexec": {
            "startup": false,
            "wait_interval": 0
          }
        }
      },
      "cell_type": "code",
      "source": [
        "!apt-get install -y -qq software-properties-common python-software-properties module-init-tools\n",
        "!add-apt-repository -y ppa:alessandro-strada/ppa 2>&1 > /dev/null\n",
        "!apt-get update -qq 2>&1 > /dev/null\n",
        "!apt-get -y install -qq google-drive-ocamlfuse fuse\n",
        "from google.colab import auth\n",
        "auth.authenticate_user()\n",
        "from oauth2client.client import GoogleCredentials\n",
        "creds = GoogleCredentials.get_application_default()\n",
        "import getpass\n",
        "!google-drive-ocamlfuse -headless -id={creds.client_id} -secret={creds.client_secret} < /dev/null 2>&1 | grep URL\n",
        "vcode = getpass.getpass()\n",
        "!echo {vcode} | google-drive-ocamlfuse -headless -id={creds.client_id} -secret={creds.client_secret}"
      ],
      "execution_count": 0,
      "outputs": []
    },
    {
      "metadata": {
        "id": "exAoOlmmshnT",
        "colab_type": "code",
        "colab": {
          "autoexec": {
            "startup": false,
            "wait_interval": 0
          }
        }
      },
      "cell_type": "code",
      "source": [
        "!mkdir -p drive\n",
        "!google-drive-ocamlfuse drive"
      ],
      "execution_count": 0,
      "outputs": []
    },
    {
      "metadata": {
        "id": "VOuOdTB90Uj9",
        "colab_type": "code",
        "colab": {
          "autoexec": {
            "startup": false,
            "wait_interval": 0
          },
          "base_uri": "https://localhost:8080/",
          "height": 34
        },
        "outputId": "53961ab5-3ad4-4e18-b68b-e6a7ac460ae0",
        "executionInfo": {
          "status": "ok",
          "timestamp": 1532359112795,
          "user_tz": -330,
          "elapsed": 2149,
          "user": {
            "displayName": "Arth Dh",
            "photoUrl": "//lh5.googleusercontent.com/-k3dUymHUDVw/AAAAAAAAAAI/AAAAAAAANZs/XNCIjM0QmZU/s50-c-k-no/photo.jpg",
            "userId": "110320452319374550954"
          }
        }
      },
      "cell_type": "code",
      "source": [
        "!ls"
      ],
      "execution_count": 285,
      "outputs": [
        {
          "output_type": "stream",
          "text": [
            "datalab  drive\r\n"
          ],
          "name": "stdout"
        }
      ]
    },
    {
      "metadata": {
        "id": "e-X7Mszfs5Tq",
        "colab_type": "code",
        "colab": {
          "autoexec": {
            "startup": false,
            "wait_interval": 0
          },
          "base_uri": "https://localhost:8080/",
          "height": 34
        },
        "outputId": "a9c6baf5-2236-4d25-a297-5192e059155f",
        "executionInfo": {
          "status": "ok",
          "timestamp": 1532344846456,
          "user_tz": -330,
          "elapsed": 886,
          "user": {
            "displayName": "Arth Dh",
            "photoUrl": "//lh5.googleusercontent.com/-k3dUymHUDVw/AAAAAAAAAAI/AAAAAAAANZs/XNCIjM0QmZU/s50-c-k-no/photo.jpg",
            "userId": "110320452319374550954"
          }
        }
      },
      "cell_type": "code",
      "source": [
        "import tensorflow as tf\n",
        "device_name = tf.test.gpu_device_name()\n",
        "if device_name != '/device:GPU:0':\n",
        "  raise SystemError('GPU device not found')\n",
        "print('Found GPU at: {}'.format(device_name))\n"
      ],
      "execution_count": 241,
      "outputs": [
        {
          "output_type": "stream",
          "text": [
            "Found GPU at: /device:GPU:0\n"
          ],
          "name": "stdout"
        }
      ]
    },
    {
      "metadata": {
        "id": "9Wa8lhcAthuQ",
        "colab_type": "code",
        "colab": {
          "autoexec": {
            "startup": false,
            "wait_interval": 0
          }
        }
      },
      "cell_type": "code",
      "source": [
        "import keras\n",
        "import numpy as np\n",
        "import os\n",
        "import pandas as pd\n",
        "import matplotlib.pyplot as plt\n",
        "import pickle\n",
        "import sys\n",
        "%matplotlib inline"
      ],
      "execution_count": 0,
      "outputs": []
    },
    {
      "metadata": {
        "id": "JVnjBIhmtlYV",
        "colab_type": "code",
        "colab": {
          "autoexec": {
            "startup": false,
            "wait_interval": 0
          }
        }
      },
      "cell_type": "code",
      "source": [
        "data_path = 'drive/projects/QuoteGen/data'\n",
        "if not os.path.exists(data_path):\n",
        "  os.mkdir(data_path)"
      ],
      "execution_count": 0,
      "outputs": []
    },
    {
      "metadata": {
        "id": "4a7YZ4Hdt7d5",
        "colab_type": "code",
        "colab": {
          "autoexec": {
            "startup": false,
            "wait_interval": 0
          }
        }
      },
      "cell_type": "code",
      "source": [
        "models_path = 'drive/projects/QuoteGen/models'\n",
        "if not os.path.exists(models_path):\n",
        "  os.mkdir(models_path)"
      ],
      "execution_count": 0,
      "outputs": []
    },
    {
      "metadata": {
        "id": "Se5OLz9HuJ7f",
        "colab_type": "code",
        "colab": {
          "autoexec": {
            "startup": false,
            "wait_interval": 0
          }
        }
      },
      "cell_type": "code",
      "source": [
        "data_txt = os.path.join(data_path, 'quotes.txt')\n",
        "data_csv = os.path.join(data_path, 'quotes_all.csv')"
      ],
      "execution_count": 0,
      "outputs": []
    },
    {
      "metadata": {
        "id": "gmSAlwQCuP1b",
        "colab_type": "code",
        "colab": {
          "autoexec": {
            "startup": false,
            "wait_interval": 0
          },
          "base_uri": "https://localhost:8080/",
          "height": 34
        },
        "outputId": "6bbbc823-da16-45b6-cdd9-7c064b1e26e2",
        "executionInfo": {
          "status": "ok",
          "timestamp": 1532344855072,
          "user_tz": -330,
          "elapsed": 1397,
          "user": {
            "displayName": "Arth Dh",
            "photoUrl": "//lh5.googleusercontent.com/-k3dUymHUDVw/AAAAAAAAAAI/AAAAAAAANZs/XNCIjM0QmZU/s50-c-k-no/photo.jpg",
            "userId": "110320452319374550954"
          }
        }
      },
      "cell_type": "code",
      "source": [
        "quotes_ds = []\n",
        "if os.path.exists(os.path.join(data_path,\"quotes_pickle.pkl\")):\n",
        "  with open(os.path.join(data_path,\"quotes_pickle.pkl\"),'rb') as f:\n",
        "    quotes_ds = pickle.load(f)\n",
        "else:\n",
        "  with open(data_csv) as f:\n",
        "    for line in f.readlines():\n",
        "      quotes_ds.append(line.split(\";\")[0])\n",
        "  # Pickling the dataset\n",
        "  if not os.path.exists(os.path.join(data_path,'quotes_pickle.pkl')):\n",
        "    out = open(os.path.join(data_path,\"quotes_pickle.pkl\"),'wb')\n",
        "    pickle.dump(quotes_ds, out)\n",
        "print(\"Found %d quotes\"%len(quotes_ds))"
      ],
      "execution_count": 246,
      "outputs": [
        {
          "output_type": "stream",
          "text": [
            "Found 75966 quotes\n"
          ],
          "name": "stdout"
        }
      ]
    },
    {
      "metadata": {
        "id": "dguBhlB2PH8j",
        "colab_type": "code",
        "colab": {
          "autoexec": {
            "startup": false,
            "wait_interval": 0
          }
        }
      },
      "cell_type": "code",
      "source": [
        "def clean_sentences(sentences):\n",
        "    n_sentences=[]\n",
        "    temp = ''\n",
        "    for sentence in sentences:\n",
        "      temp = \"\\t \"+sentence+ \" \\n\"\n",
        "      n_sentences.append(temp)\n",
        "      temp=''\n",
        "    return n_sentences"
      ],
      "execution_count": 0,
      "outputs": []
    },
    {
      "metadata": {
        "id": "c9MWrIYOPJRS",
        "colab_type": "code",
        "colab": {
          "autoexec": {
            "startup": false,
            "wait_interval": 0
          }
        }
      },
      "cell_type": "code",
      "source": [
        "cleaned_quotes = clean_sentences(quotes_ds)"
      ],
      "execution_count": 0,
      "outputs": []
    },
    {
      "metadata": {
        "id": "8rZQCvpcLDyD",
        "colab_type": "code",
        "colab": {
          "autoexec": {
            "startup": false,
            "wait_interval": 0
          },
          "base_uri": "https://localhost:8080/",
          "height": 34
        },
        "outputId": "6bd6b9e2-29b6-44fc-b83f-75ace9013dbb",
        "executionInfo": {
          "status": "ok",
          "timestamp": 1532344858846,
          "user_tz": -330,
          "elapsed": 1076,
          "user": {
            "displayName": "Arth Dh",
            "photoUrl": "//lh5.googleusercontent.com/-k3dUymHUDVw/AAAAAAAAAAI/AAAAAAAANZs/XNCIjM0QmZU/s50-c-k-no/photo.jpg",
            "userId": "110320452319374550954"
          }
        }
      },
      "cell_type": "code",
      "source": [
        "cleaned_quotes[0]"
      ],
      "execution_count": 249,
      "outputs": [
        {
          "output_type": "execute_result",
          "data": {
            "text/plain": [
              "\"\\t Age is an issue of mind over matter. If you don't mind, it doesn't matter. \\n\""
            ]
          },
          "metadata": {
            "tags": []
          },
          "execution_count": 249
        }
      ]
    },
    {
      "metadata": {
        "id": "djZRogJjucVv",
        "colab_type": "code",
        "colab": {
          "autoexec": {
            "startup": false,
            "wait_interval": 0
          }
        }
      },
      "cell_type": "code",
      "source": [
        "from keras.preprocessing.text import Tokenizer\n",
        "from keras.preprocessing.sequence import pad_sequences"
      ],
      "execution_count": 0,
      "outputs": []
    },
    {
      "metadata": {
        "id": "S6YpWSS9v_vG",
        "colab_type": "code",
        "colab": {
          "autoexec": {
            "startup": false,
            "wait_interval": 0
          },
          "base_uri": "https://localhost:8080/",
          "height": 34
        },
        "outputId": "e32da5e9-5ce5-4908-d107-ef8ec1524500",
        "executionInfo": {
          "status": "ok",
          "timestamp": 1532344868717,
          "user_tz": -330,
          "elapsed": 8493,
          "user": {
            "displayName": "Arth Dh",
            "photoUrl": "//lh5.googleusercontent.com/-k3dUymHUDVw/AAAAAAAAAAI/AAAAAAAANZs/XNCIjM0QmZU/s50-c-k-no/photo.jpg",
            "userId": "110320452319374550954"
          }
        }
      },
      "cell_type": "code",
      "source": [
        "tokenizer = Tokenizer(lower=True, split=' ', char_level=True)\n",
        "tokenizer.fit_on_texts(cleaned_quotes)\n",
        "sequences = tokenizer.texts_to_sequences(cleaned_quotes)\n",
        "\n",
        "word_index = tokenizer.word_index\n",
        "print('Found %d unique tokens.' % len(word_index))"
      ],
      "execution_count": 251,
      "outputs": [
        {
          "output_type": "stream",
          "text": [
            "Found 83 unique tokens.\n"
          ],
          "name": "stdout"
        }
      ]
    },
    {
      "metadata": {
        "id": "v76TJeyVxg_2",
        "colab_type": "code",
        "colab": {
          "autoexec": {
            "startup": false,
            "wait_interval": 0
          }
        }
      },
      "cell_type": "code",
      "source": [
        "index2char = {}\n",
        "for ch in tokenizer.word_index:\n",
        "  index2char[tokenizer.word_index.get(ch)] = ch"
      ],
      "execution_count": 0,
      "outputs": []
    },
    {
      "metadata": {
        "id": "q8B-GaUPxYMm",
        "colab_type": "code",
        "colab": {
          "autoexec": {
            "startup": false,
            "wait_interval": 0
          },
          "base_uri": "https://localhost:8080/",
          "height": 51
        },
        "outputId": "f47f39d7-c1cb-4e59-845a-f66add4f38cc",
        "executionInfo": {
          "status": "ok",
          "timestamp": 1532344871091,
          "user_tz": -330,
          "elapsed": 1079,
          "user": {
            "displayName": "Arth Dh",
            "photoUrl": "//lh5.googleusercontent.com/-k3dUymHUDVw/AAAAAAAAAAI/AAAAAAAANZs/XNCIjM0QmZU/s50-c-k-no/photo.jpg",
            "userId": "110320452319374550954"
          }
        }
      },
      "cell_type": "code",
      "source": [
        "test = sequences[0]\n",
        "s = \"\"\n",
        "for temp in test:\n",
        "  if not temp==0:\n",
        "    s = s+ index2char[temp]\n",
        "    \n",
        "cleaned_quotes[0],s"
      ],
      "execution_count": 253,
      "outputs": [
        {
          "output_type": "execute_result",
          "data": {
            "text/plain": [
              "(\"\\t Age is an issue of mind over matter. If you don't mind, it doesn't matter. \\n\",\n",
              " \"\\t Age is an issue of mind over matter. If you don't mind, it doesn't matter. \\n\")"
            ]
          },
          "metadata": {
            "tags": []
          },
          "execution_count": 253
        }
      ]
    },
    {
      "metadata": {
        "id": "osXKxcfNvT-i",
        "colab_type": "code",
        "colab": {
          "autoexec": {
            "startup": false,
            "wait_interval": 0
          },
          "base_uri": "https://localhost:8080/",
          "height": 34
        },
        "outputId": "07366dbf-b133-4e68-cf38-24c022239224",
        "executionInfo": {
          "status": "ok",
          "timestamp": 1532344895189,
          "user_tz": -330,
          "elapsed": 989,
          "user": {
            "displayName": "Arth Dh",
            "photoUrl": "//lh5.googleusercontent.com/-k3dUymHUDVw/AAAAAAAAAAI/AAAAAAAANZs/XNCIjM0QmZU/s50-c-k-no/photo.jpg",
            "userId": "110320452319374550954"
          }
        }
      },
      "cell_type": "code",
      "source": [
        "quotes_ds[0]"
      ],
      "execution_count": 256,
      "outputs": [
        {
          "output_type": "execute_result",
          "data": {
            "text/plain": [
              "\"Age is an issue of mind over matter. If you don't mind, it doesn't matter.\""
            ]
          },
          "metadata": {
            "tags": []
          },
          "execution_count": 256
        }
      ]
    },
    {
      "metadata": {
        "id": "NqxoU5ur0GMB",
        "colab_type": "code",
        "colab": {
          "autoexec": {
            "startup": false,
            "wait_interval": 0
          }
        }
      },
      "cell_type": "code",
      "source": [
        "def generate_split(data, lookback= 20, step = 5):\n",
        "  sentence = []\n",
        "  next_char = []\n",
        "  for d in data: \n",
        "    for i in range(lookback,len(d), step):\n",
        "      sentence.append(d[i-lookback:i])\n",
        "      next_char.append(d[i])\n",
        "  return sentence, next_char"
      ],
      "execution_count": 0,
      "outputs": []
    },
    {
      "metadata": {
        "id": "XqN7nemh1YTq",
        "colab_type": "code",
        "colab": {
          "autoexec": {
            "startup": false,
            "wait_interval": 0
          }
        }
      },
      "cell_type": "code",
      "source": [
        "# Try switching to cleaned_quotes\n",
        "sentence, next_char = generate_split(quotes_ds)"
      ],
      "execution_count": 0,
      "outputs": []
    },
    {
      "metadata": {
        "id": "Zf5Z_o4iucED",
        "colab_type": "code",
        "colab": {
          "autoexec": {
            "startup": false,
            "wait_interval": 0
          }
        }
      },
      "cell_type": "code",
      "source": [
        "max_len = 20\n",
        "n_samples = 120000\n",
        "\n",
        "x = np.zeros((n_samples, max_len, len(word_index)))\n",
        "y = np.zeros((n_samples, len(word_index)))\n",
        "\n",
        "for i,s in enumerate(sentence[:n_samples]):\n",
        "  for t, char in enumerate(s):\n",
        "      x[i, t, word_index[char]] = 1\n",
        "  y[i, word_index[next_char[i]]] = 1"
      ],
      "execution_count": 0,
      "outputs": []
    },
    {
      "metadata": {
        "id": "Njq9DpaD8_od",
        "colab_type": "code",
        "colab": {
          "autoexec": {
            "startup": false,
            "wait_interval": 0
          }
        }
      },
      "cell_type": "code",
      "source": [
        "from keras.models import Sequential\n",
        "from keras import Model\n",
        "from keras.layers import Input, Embedding, LSTM, Dense, Flatten,Dropout\n",
        "from keras.optimizers import RMSprop\n",
        "from keras.models import load_model"
      ],
      "execution_count": 0,
      "outputs": []
    },
    {
      "metadata": {
        "id": "tHzHKXV0qie1",
        "colab_type": "code",
        "colab": {
          "autoexec": {
            "startup": false,
            "wait_interval": 0
          }
        }
      },
      "cell_type": "code",
      "source": [
        "model = Sequential()\n",
        "model.add(LSTM(128, input_shape=(max_len, len(word_index))))\n",
        "model.add(Dense(len(word_index), activation='softmax'))"
      ],
      "execution_count": 0,
      "outputs": []
    },
    {
      "metadata": {
        "id": "RqXO4-Nq43QR",
        "colab_type": "code",
        "colab": {
          "autoexec": {
            "startup": false,
            "wait_interval": 0
          }
        }
      },
      "cell_type": "code",
      "source": [
        "optimizer = keras.optimizers.RMSprop(lr=0.1)\n",
        "model.compile(loss='categorical_crossentropy', optimizer=optimizer)"
      ],
      "execution_count": 0,
      "outputs": []
    },
    {
      "metadata": {
        "id": "ZiAmvr-zCoWr",
        "colab_type": "code",
        "colab": {
          "autoexec": {
            "startup": false,
            "wait_interval": 0
          }
        }
      },
      "cell_type": "code",
      "source": [
        "callbacks_list = [\n",
        "        keras.callbacks.ReduceLROnPlateau(\n",
        "            monitor='loss',\n",
        "            factor=0.1,\n",
        "            patience=3,\n",
        "        ),\n",
        "        keras.callbacks.ModelCheckpoint(\n",
        "            filepath=os.path.join(models_path,'quotegen.h5'),\n",
        "            monitor='loss',\n",
        "            save_best_only=True,\n",
        "        ),\n",
        "]"
      ],
      "execution_count": 0,
      "outputs": []
    },
    {
      "metadata": {
        "id": "kC6fIzA9FMDu",
        "colab_type": "code",
        "colab": {
          "autoexec": {
            "startup": false,
            "wait_interval": 0
          }
        }
      },
      "cell_type": "code",
      "source": [
        "model = load_model(os.path.join(models_path,'quotegen.h5'))"
      ],
      "execution_count": 0,
      "outputs": []
    },
    {
      "metadata": {
        "id": "wtfWEGgu4JoJ",
        "colab_type": "code",
        "colab": {
          "autoexec": {
            "startup": false,
            "wait_interval": 0
          },
          "base_uri": "https://localhost:8080/",
          "height": 51
        },
        "outputId": "aad31543-fc2a-4fda-881f-5ca379fb107e",
        "executionInfo": {
          "status": "ok",
          "timestamp": 1532359314211,
          "user_tz": -330,
          "elapsed": 32556,
          "user": {
            "displayName": "Arth Dh",
            "photoUrl": "//lh5.googleusercontent.com/-k3dUymHUDVw/AAAAAAAAAAI/AAAAAAAANZs/XNCIjM0QmZU/s50-c-k-no/photo.jpg",
            "userId": "110320452319374550954"
          }
        }
      },
      "cell_type": "code",
      "source": [
        "history = model.fit(x, y, batch_size=256, epochs=1, callbacks= callbacks_list)"
      ],
      "execution_count": 296,
      "outputs": [
        {
          "output_type": "stream",
          "text": [
            "Epoch 1/1\n",
            "120000/120000 [==============================] - 30s 250us/step - loss: 0.3572\n"
          ],
          "name": "stdout"
        }
      ]
    },
    {
      "metadata": {
        "id": "i8igOnadZGmg",
        "colab_type": "code",
        "colab": {
          "autoexec": {
            "startup": false,
            "wait_interval": 0
          },
          "base_uri": "https://localhost:8080/",
          "height": 280
        },
        "outputId": "5854cf98-1388-45f1-dd07-f42492898ec3",
        "executionInfo": {
          "status": "ok",
          "timestamp": 1532359133364,
          "user_tz": -330,
          "elapsed": 1011,
          "user": {
            "displayName": "Arth Dh",
            "photoUrl": "//lh5.googleusercontent.com/-k3dUymHUDVw/AAAAAAAAAAI/AAAAAAAANZs/XNCIjM0QmZU/s50-c-k-no/photo.jpg",
            "userId": "110320452319374550954"
          }
        }
      },
      "cell_type": "code",
      "source": [
        "import matplotlib.pyplot as plt\n",
        "loss = history.history['loss']\n",
        "# val_loss = history.history['val_loss']\n",
        "epochs = range(1, len(loss) + 1)\n",
        "plt.figure()\n",
        "plt.plot(epochs, loss, 'bo', label='Training loss')\n",
        "# plt.plot(epochs, val_loss, 'b', label='Validation loss')\n",
        "plt.title('Training and validation loss')\n",
        "plt.legend()\n",
        "plt.show()"
      ],
      "execution_count": 286,
      "outputs": [
        {
          "output_type": "display_data",
          "data": {
            "image/png": "[encoded data removed]",
            "text/plain": [
              "<matplotlib.figure.Figure at 0x7fc4df4ca5f8>"
            ]
          },
          "metadata": {
            "tags": []
          }
        }
      ]
    },
    {
      "metadata": {
        "id": "-RtAQwD9BrP7",
        "colab_type": "code",
        "colab": {
          "autoexec": {
            "startup": false,
            "wait_interval": 0
          }
        }
      },
      "cell_type": "code",
      "source": [
        "def sample(preds, temperature= 0.2):\n",
        "    preds = np.reshape(preds,preds.shape[-1])\n",
        "    preds = np.asarray(preds).astype('float64')\n",
        "    preds = np.log(preds+1e-25)/ temperature\n",
        "    exp_preds = np.exp(preds)\n",
        "    preds = exp_preds / np.sum(exp_preds)\n",
        "    probas = np.random.multinomial(1,preds, 1)\n",
        "    return np.argmax(probas)"
      ],
      "execution_count": 0,
      "outputs": []
    },
    {
      "metadata": {
        "id": "_TF9gp-iuSYe",
        "colab_type": "code",
        "colab": {
          "autoexec": {
            "startup": false,
            "wait_interval": 0
          }
        }
      },
      "cell_type": "code",
      "source": [
        "def inference(sent):\n",
        "  string_length=20\n",
        "  string_revised=sent.ljust(string_length)\n",
        "  return string_revised"
      ],
      "execution_count": 0,
      "outputs": []
    },
    {
      "metadata": {
        "id": "eK4fkkhpZHEo",
        "colab_type": "code",
        "colab": {
          "autoexec": {
            "startup": false,
            "wait_interval": 0
          },
          "base_uri": "https://localhost:8080/",
          "height": 187
        },
        "outputId": "b7ca96b9-bb00-4338-8c9d-01b077e6d425",
        "executionInfo": {
          "status": "ok",
          "timestamp": 1532360341669,
          "user_tz": -330,
          "elapsed": 5354,
          "user": {
            "displayName": "Arth Dh",
            "photoUrl": "//lh5.googleusercontent.com/-k3dUymHUDVw/AAAAAAAAAAI/AAAAAAAANZs/XNCIjM0QmZU/s50-c-k-no/photo.jpg",
            "userId": "110320452319374550954"
          }
        }
      },
      "cell_type": "code",
      "source": [
        "start_word=\"when\"\n",
        "inference_text = inference(start_word)\n",
        "\n",
        "for temperature in [0.1,0.5, 0.7, 1.0, 1.2]:\n",
        "    print('------ temperature:', temperature)\n",
        "    sys.stdout.write(inference_text.strip()+\" \")\n",
        "    generated_text = inference_text[:20]+\"\"\n",
        "    for i in range(50):\n",
        "      sampled = np.zeros((1, max_len, len(word_index)))\n",
        "      for t, char in enumerate(generated_text):\n",
        "          sampled[0, t, word_index[char]] = 1.\n",
        "      preds = model.predict(sampled, verbose=0)[0]\n",
        "      next_index = sample(preds, temperature)\n",
        "      next_char = index2char[next_index]\n",
        "      generated_text += next_char\n",
        "      generated_text = generated_text[1:]\n",
        "      sys.stdout.write(next_char)\n",
        "    print()"
      ],
      "execution_count": 347,
      "outputs": [
        {
          "output_type": "stream",
          "text": [
            "------ temperature: 0.1\n",
            "when of age. It was a certain age, the way. lefter and \n",
            "------ temperature: 0.5\n",
            "when if the spandentlay isn't the gduest of all this co\n",
            "------ temperature: 0.7\n",
            "when of age, dream in the cold one learned he's nothing\n",
            "------ temperature: 1.0\n",
            "when edgeAgeness when I would look - to heaps of sure a\n",
            "------ temperature: 1.2\n",
            "when isnoung. All re-pleance that came out of - mustine\n"
          ],
          "name": "stdout"
        }
      ]
    },
    {
      "metadata": {
        "id": "Gq2d28JEvyWL",
        "colab_type": "code",
        "colab": {
          "autoexec": {
            "startup": false,
            "wait_interval": 0
          }
        }
      },
      "cell_type": "code",
      "source": [
        ""
      ],
      "execution_count": 0,
      "outputs": []
    }
  ]
}