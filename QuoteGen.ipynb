{
  "nbformat": 4,
  "nbformat_minor": 0,
  "metadata": {
    "colab": {
      "name": "QuoteGen.ipynb",
      "version": "0.3.2",
      "views": {},
      "default_view": {},
      "provenance": [],
      "collapsed_sections": []
    },
    "kernelspec": {
      "name": "python3",
      "display_name": "Python 3"
    },
    "accelerator": "GPU"
  },
  "cells": [
    {
      "metadata": {
        "id": "2dIwkqRNsBqM",
        "colab_type": "code",
        "colab": {
          "autoexec": {
            "startup": false,
            "wait_interval": 0
          },
          "base_uri": "https://localhost:8080/",
          "height": 105
        },
        "outputId": "93e42bc9-9433-44a3-a606-fceae67de10d",
        "executionInfo": {
          "status": "ok",
          "timestamp": 1532512977385,
          "user_tz": -330,
          "elapsed": 78559,
          "user": {
            "displayName": "Arth Dharaskar",
            "photoUrl": "https://lh3.googleusercontent.com/a/default-user=s128",
            "userId": "112750200661093479151"
          }
        }
      },
      "cell_type": "code",
      "source": [
        "!apt-get install -y -qq software-properties-common python-software-properties module-init-tools\n",
        "!add-apt-repository -y ppa:alessandro-strada/ppa 2>&1 > /dev/null\n",
        "!apt-get update -qq 2>&1 > /dev/null\n",
        "!apt-get -y install -qq google-drive-ocamlfuse fuse\n",
        "from google.colab import auth\n",
        "auth.authenticate_user()\n",
        "from oauth2client.client import GoogleCredentials\n",
        "creds = GoogleCredentials.get_application_default()\n",
        "import getpass\n",
        "!google-drive-ocamlfuse -headless -id={creds.client_id} -secret={creds.client_secret} < /dev/null 2>&1 | grep URL\n",
        "vcode = getpass.getpass()\n",
        "!echo {vcode} | google-drive-ocamlfuse -headless -id={creds.client_id} -secret={creds.client_secret}"
      ],
      "execution_count": 2,
      "outputs": [
        {
          "output_type": "stream",
          "text": [
            "Please, open the following URL in a web browser: https://accounts.google.com/o/oauth2/auth?client_id=32555940559.apps.googleusercontent.com&redirect_uri=urn%3Aietf%3Awg%3Aoauth%3A2.0%3Aoob&scope=https%3A%2F%2Fwww.googleapis.com%2Fauth%2Fdrive&response_type=code&access_type=offline&approval_prompt=force\r\n",
            "··········\n",
            "Please, open the following URL in a web browser: https://accounts.google.com/o/oauth2/auth?client_id=32555940559.apps.googleusercontent.com&redirect_uri=urn%3Aietf%3Awg%3Aoauth%3A2.0%3Aoob&scope=https%3A%2F%2Fwww.googleapis.com%2Fauth%2Fdrive&response_type=code&access_type=offline&approval_prompt=force\n",
            "Please enter the verification code: Access token retrieved correctly.\n"
          ],
          "name": "stdout"
        }
      ]
    },
    {
      "metadata": {
        "id": "exAoOlmmshnT",
        "colab_type": "code",
        "colab": {
          "autoexec": {
            "startup": false,
            "wait_interval": 0
          }
        }
      },
      "cell_type": "code",
      "source": [
        "!mkdir -p drive\n",
        "!google-drive-ocamlfuse drive"
      ],
      "execution_count": 0,
      "outputs": []
    },
    {
      "metadata": {
        "id": "VOuOdTB90Uj9",
        "colab_type": "code",
        "colab": {
          "autoexec": {
            "startup": false,
            "wait_interval": 0
          },
          "base_uri": "https://localhost:8080/",
          "height": 34
        },
        "outputId": "f1cf0a8f-a8dc-4df0-83c0-f513ba030ff6",
        "executionInfo": {
          "status": "ok",
          "timestamp": 1532512989819,
          "user_tz": -330,
          "elapsed": 1888,
          "user": {
            "displayName": "Arth Dharaskar",
            "photoUrl": "https://lh3.googleusercontent.com/a/default-user=s128",
            "userId": "112750200661093479151"
          }
        }
      },
      "cell_type": "code",
      "source": [
        "!ls"
      ],
      "execution_count": 4,
      "outputs": [
        {
          "output_type": "stream",
          "text": [
            "datalab  drive\r\n"
          ],
          "name": "stdout"
        }
      ]
    },
    {
      "metadata": {
        "id": "e-X7Mszfs5Tq",
        "colab_type": "code",
        "colab": {
          "autoexec": {
            "startup": false,
            "wait_interval": 0
          },
          "base_uri": "https://localhost:8080/",
          "height": 34
        },
        "outputId": "423a015b-ff0d-4903-9147-d9587bfdadca",
        "executionInfo": {
          "status": "ok",
          "timestamp": 1532512999657,
          "user_tz": -330,
          "elapsed": 8900,
          "user": {
            "displayName": "Arth Dharaskar",
            "photoUrl": "https://lh3.googleusercontent.com/a/default-user=s128",
            "userId": "112750200661093479151"
          }
        }
      },
      "cell_type": "code",
      "source": [
        "import tensorflow as tf\n",
        "device_name = tf.test.gpu_device_name()\n",
        "if device_name != '/device:GPU:0':\n",
        "  raise SystemError('GPU device not found')\n",
        "print('Found GPU at: {}'.format(device_name))\n"
      ],
      "execution_count": 5,
      "outputs": [
        {
          "output_type": "stream",
          "text": [
            "Found GPU at: /device:GPU:0\n"
          ],
          "name": "stdout"
        }
      ]
    },
    {
      "metadata": {
        "id": "9Wa8lhcAthuQ",
        "colab_type": "code",
        "colab": {
          "autoexec": {
            "startup": false,
            "wait_interval": 0
          }
        }
      },
      "cell_type": "code",
      "source": [
        "import keras\n",
        "import numpy as np\n",
        "import os\n",
        "import pandas as pd\n",
        "import matplotlib.pyplot as plt\n",
        "import pickle\n",
        "import sys\n",
        "import re\n",
        "%matplotlib inline"
      ],
      "execution_count": 0,
      "outputs": []
    },
    {
      "metadata": {
        "id": "qHs-gHUfqaex",
        "colab_type": "code",
        "colab": {
          "autoexec": {
            "startup": false,
            "wait_interval": 0
          }
        }
      },
      "cell_type": "code",
      "source": [
        "n_samples = 200000\n",
        "max_len = 20"
      ],
      "execution_count": 0,
      "outputs": []
    },
    {
      "metadata": {
        "id": "JVnjBIhmtlYV",
        "colab_type": "code",
        "colab": {
          "autoexec": {
            "startup": false,
            "wait_interval": 0
          }
        }
      },
      "cell_type": "code",
      "source": [
        "data_path = 'drive/projects/QuoteGen/data'\n",
        "if not os.path.exists(data_path):\n",
        "  os.mkdir(data_path)"
      ],
      "execution_count": 0,
      "outputs": []
    },
    {
      "metadata": {
        "id": "4a7YZ4Hdt7d5",
        "colab_type": "code",
        "colab": {
          "autoexec": {
            "startup": false,
            "wait_interval": 0
          }
        }
      },
      "cell_type": "code",
      "source": [
        "models_path = 'drive/projects/QuoteGen/models'\n",
        "if not os.path.exists(models_path):\n",
        "  os.mkdir(models_path)"
      ],
      "execution_count": 0,
      "outputs": []
    },
    {
      "metadata": {
        "id": "Se5OLz9HuJ7f",
        "colab_type": "code",
        "colab": {
          "autoexec": {
            "startup": false,
            "wait_interval": 0
          }
        }
      },
      "cell_type": "code",
      "source": [
        "data_txt = os.path.join(data_path, 'quotes.txt')\n",
        "data_csv = os.path.join(data_path, 'quotes_all.csv')"
      ],
      "execution_count": 0,
      "outputs": []
    },
    {
      "metadata": {
        "id": "gmSAlwQCuP1b",
        "colab_type": "code",
        "colab": {
          "autoexec": {
            "startup": false,
            "wait_interval": 0
          },
          "base_uri": "https://localhost:8080/",
          "height": 34
        },
        "outputId": "ebcf50e8-dfa9-4775-8a7c-d7d93db1f74b",
        "executionInfo": {
          "status": "ok",
          "timestamp": 1532526495595,
          "user_tz": -330,
          "elapsed": 1244,
          "user": {
            "displayName": "Arth Dharaskar",
            "photoUrl": "https://lh3.googleusercontent.com/a/default-user=s128",
            "userId": "112750200661093479151"
          }
        }
      },
      "cell_type": "code",
      "source": [
        "quotes_ds = []\n",
        "if os.path.exists(os.path.join(data_path,\"quotes_pickle.pkl\")):\n",
        "  with open(os.path.join(data_path,\"quotes_pickle.pkl\"),'rb') as f:\n",
        "    quotes_ds = pickle.load(f)\n",
        "else:\n",
        "  with open(data_csv) as f:\n",
        "    for line in f.readlines():\n",
        "      quotes_ds.append(line.split(\";\")[0])\n",
        "  # Pickling the dataset\n",
        "  if not os.path.exists(os.path.join(data_path,'quotes_pickle.pkl')):\n",
        "    out = open(os.path.join(data_path,\"quotes_pickle.pkl\"),'wb')\n",
        "    pickle.dump(quotes_ds, out)\n",
        "print(\"Found %d quotes\"%len(quotes_ds))"
      ],
      "execution_count": 262,
      "outputs": [
        {
          "output_type": "stream",
          "text": [
            "Found 75966 quotes\n"
          ],
          "name": "stdout"
        }
      ]
    },
    {
      "metadata": {
        "id": "dguBhlB2PH8j",
        "colab_type": "code",
        "colab": {
          "autoexec": {
            "startup": false,
            "wait_interval": 0
          }
        }
      },
      "cell_type": "code",
      "source": [
        "def clean_sentences(sentences, lower = True):\n",
        "    n_sentences=[]\n",
        "    temp = ''\n",
        "    for sentence in sentences:\n",
        "      sentence = re.sub(r'[0-9#$%&*+():=?/]+', '', sentence)\n",
        "      if lower==True:\n",
        "        temp = \"\\t \"+sentence.lower()+ \" \\n\"\n",
        "      else:\n",
        "        temp = \"\\t \"+sentence+ \" \\n\"\n",
        "      n_sentences.append(temp)\n",
        "      temp=''\n",
        "    return n_sentences"
      ],
      "execution_count": 0,
      "outputs": []
    },
    {
      "metadata": {
        "id": "c9MWrIYOPJRS",
        "colab_type": "code",
        "colab": {
          "autoexec": {
            "startup": false,
            "wait_interval": 0
          }
        }
      },
      "cell_type": "code",
      "source": [
        "cleaned_quotes = clean_sentences(quotes_ds, lower=True)"
      ],
      "execution_count": 0,
      "outputs": []
    },
    {
      "metadata": {
        "id": "djZRogJjucVv",
        "colab_type": "code",
        "colab": {
          "autoexec": {
            "startup": false,
            "wait_interval": 0
          }
        }
      },
      "cell_type": "code",
      "source": [
        "from keras.preprocessing.text import Tokenizer\n",
        "from keras.preprocessing.sequence import pad_sequences"
      ],
      "execution_count": 0,
      "outputs": []
    },
    {
      "metadata": {
        "id": "S6YpWSS9v_vG",
        "colab_type": "code",
        "colab": {
          "autoexec": {
            "startup": false,
            "wait_interval": 0
          },
          "base_uri": "https://localhost:8080/",
          "height": 34
        },
        "outputId": "453ad651-a28f-481a-eb51-7f4612f88ff3",
        "executionInfo": {
          "status": "ok",
          "timestamp": 1532528393985,
          "user_tz": -330,
          "elapsed": 7319,
          "user": {
            "displayName": "Arth Dharaskar",
            "photoUrl": "https://lh3.googleusercontent.com/a/default-user=s128",
            "userId": "112750200661093479151"
          }
        }
      },
      "cell_type": "code",
      "source": [
        "tokenizer = Tokenizer(split=' ', char_level=True)\n",
        "tokenizer.fit_on_texts(cleaned_quotes)\n",
        "sequences = tokenizer.texts_to_sequences(cleaned_quotes)\n",
        "\n",
        "word_index = tokenizer.word_index\n",
        "print('Found %d unique tokens.' % len(word_index))"
      ],
      "execution_count": 300,
      "outputs": [
        {
          "output_type": "stream",
          "text": [
            "Found 35 unique tokens.\n"
          ],
          "name": "stdout"
        }
      ]
    },
    {
      "metadata": {
        "id": "3ir--iAWSPDe",
        "colab_type": "code",
        "colab": {
          "autoexec": {
            "startup": false,
            "wait_interval": 0
          }
        }
      },
      "cell_type": "code",
      "source": [
        "#   out = open(os.path.join(data_path,\"word_index.pkl\"),'wb')\n",
        "#   pickle.dump(word_index, out)\n",
        "\n",
        "if not os.path.exists(os.path.join(data_path,'word_index_cleaned.pkl')):\n",
        "  with open(os.path.join(data_path,\"word_index_cleaned.pkl\"), 'wb') as handle:\n",
        "      pickle.dump(word_index, handle, protocol=pickle.HIGHEST_PROTOCOL)\n",
        "else:\n",
        "  with open(os.path.join(data_path,\"word_index_cleaned.pkl\"), 'rb') as handle:\n",
        "      word_index = pickle.load(handle)"
      ],
      "execution_count": 0,
      "outputs": []
    },
    {
      "metadata": {
        "id": "v76TJeyVxg_2",
        "colab_type": "code",
        "colab": {
          "autoexec": {
            "startup": false,
            "wait_interval": 0
          }
        }
      },
      "cell_type": "code",
      "source": [
        "index2char = {}\n",
        "for ch in tokenizer.word_index:\n",
        "  index2char[tokenizer.word_index.get(ch)] = ch"
      ],
      "execution_count": 0,
      "outputs": []
    },
    {
      "metadata": {
        "id": "q8B-GaUPxYMm",
        "colab_type": "code",
        "colab": {
          "autoexec": {
            "startup": false,
            "wait_interval": 0
          },
          "base_uri": "https://localhost:8080/",
          "height": 51
        },
        "outputId": "59ba2474-619d-4011-c423-752649078bd8",
        "executionInfo": {
          "status": "ok",
          "timestamp": 1532528398347,
          "user_tz": -330,
          "elapsed": 1115,
          "user": {
            "displayName": "Arth Dharaskar",
            "photoUrl": "https://lh3.googleusercontent.com/a/default-user=s128",
            "userId": "112750200661093479151"
          }
        }
      },
      "cell_type": "code",
      "source": [
        "test = sequences[0]\n",
        "s = \"\"\n",
        "for temp in test:\n",
        "  if not temp==0:\n",
        "    s = s+ index2char[temp]\n",
        "    \n",
        "cleaned_quotes[0],s"
      ],
      "execution_count": 303,
      "outputs": [
        {
          "output_type": "execute_result",
          "data": {
            "text/plain": [
              "(\"\\t age is an issue of mind over matter. if you don't mind, it doesn't matter. \\n\",\n",
              " \"\\t age is an issue of mind over matter. if you don't mind, it doesn't matter. \\n\")"
            ]
          },
          "metadata": {
            "tags": []
          },
          "execution_count": 303
        }
      ]
    },
    {
      "metadata": {
        "id": "NqxoU5ur0GMB",
        "colab_type": "code",
        "colab": {
          "autoexec": {
            "startup": false,
            "wait_interval": 0
          }
        }
      },
      "cell_type": "code",
      "source": [
        "def generate_split(data, lookback= 20, step = 5):\n",
        "  sentence = []\n",
        "  next_char = []\n",
        "  for d in data: \n",
        "    for i in range(lookback,len(d), step):\n",
        "      sentence.append(d[i-lookback:i])\n",
        "      next_char.append(d[i])\n",
        "  print(len(sentence))\n",
        "  return sentence, next_char"
      ],
      "execution_count": 0,
      "outputs": []
    },
    {
      "metadata": {
        "id": "XqN7nemh1YTq",
        "colab_type": "code",
        "colab": {
          "autoexec": {
            "startup": false,
            "wait_interval": 0
          },
          "base_uri": "https://localhost:8080/",
          "height": 34
        },
        "outputId": "e9ad8e4f-cc32-4771-9525-87704e4c262d",
        "executionInfo": {
          "status": "ok",
          "timestamp": 1532528401354,
          "user_tz": -330,
          "elapsed": 1501,
          "user": {
            "displayName": "Arth Dharaskar",
            "photoUrl": "https://lh3.googleusercontent.com/a/default-user=s128",
            "userId": "112750200661093479151"
          }
        }
      },
      "cell_type": "code",
      "source": [
        "sentence, next_char = generate_split(cleaned_quotes,lookback = max_len, step = 10)"
      ],
      "execution_count": 305,
      "outputs": [
        {
          "output_type": "stream",
          "text": [
            "985265\n"
          ],
          "name": "stdout"
        }
      ]
    },
    {
      "metadata": {
        "id": "Zf5Z_o4iucED",
        "colab_type": "code",
        "colab": {
          "autoexec": {
            "startup": false,
            "wait_interval": 0
          }
        }
      },
      "cell_type": "code",
      "source": [
        "n_tokens = len(word_index)+1\n",
        "\n",
        "x = np.zeros((n_samples, max_len, n_tokens))\n",
        "y = np.zeros((n_samples, n_tokens))\n",
        "\n",
        "for i,s in enumerate(sentence[:n_samples]):\n",
        "  for t, char in enumerate(s):\n",
        "      x[i, t, word_index[char]] = 1\n",
        "  y[i, word_index[next_char[i]]] = 1"
      ],
      "execution_count": 0,
      "outputs": []
    },
    {
      "metadata": {
        "id": "Njq9DpaD8_od",
        "colab_type": "code",
        "colab": {
          "autoexec": {
            "startup": false,
            "wait_interval": 0
          }
        }
      },
      "cell_type": "code",
      "source": [
        "from keras.models import Sequential\n",
        "from keras import Model\n",
        "from keras.layers import Input, Embedding, LSTM, Dense, Flatten,Dropout, Conv1D,MaxPool1D\n",
        "from keras.optimizers import RMSprop\n",
        "from keras.models import load_model"
      ],
      "execution_count": 0,
      "outputs": []
    },
    {
      "metadata": {
        "id": "tHzHKXV0qie1",
        "colab_type": "code",
        "colab": {
          "autoexec": {
            "startup": false,
            "wait_interval": 0
          }
        }
      },
      "cell_type": "code",
      "source": [
        "model2 = Sequential()\n",
        "model2.add(LSTM(128, input_shape=(max_len, n_tokens),return_sequences= True))\n",
        "model2.add(Dropout(0.3))\n",
        "model2.add(LSTM(128))\n",
        "model2.add(Dropout(0.3))\n",
        "model2.add(Dense(n_tokens,activation='softmax'))"
      ],
      "execution_count": 0,
      "outputs": []
    },
    {
      "metadata": {
        "id": "eh96vPHy6yzk",
        "colab_type": "code",
        "colab": {
          "autoexec": {
            "startup": false,
            "wait_interval": 0
          }
        }
      },
      "cell_type": "code",
      "source": [
        "model2 = load_model(os.path.join(models_path,'quotegen_test.h5'))"
      ],
      "execution_count": 0,
      "outputs": []
    },
    {
      "metadata": {
        "id": "RqXO4-Nq43QR",
        "colab_type": "code",
        "colab": {
          "autoexec": {
            "startup": false,
            "wait_interval": 0
          }
        }
      },
      "cell_type": "code",
      "source": [
        "optimizer = keras.optimizers.RMSprop(lr=0.01)\n",
        "model2.compile(loss='categorical_crossentropy', optimizer=optimizer)"
      ],
      "execution_count": 0,
      "outputs": []
    },
    {
      "metadata": {
        "id": "ZiAmvr-zCoWr",
        "colab_type": "code",
        "colab": {
          "autoexec": {
            "startup": false,
            "wait_interval": 0
          }
        }
      },
      "cell_type": "code",
      "source": [
        "callbacks_list = [\n",
        "        keras.callbacks.ReduceLROnPlateau(\n",
        "            monitor='loss',\n",
        "            factor=0.1,\n",
        "            patience=1,\n",
        "        ),\n",
        "        keras.callbacks.ModelCheckpoint(\n",
        "            filepath=os.path.join(models_path,'quotegen_test.h5'),\n",
        "            monitor='loss',\n",
        "            save_best_only=True,\n",
        "        ),\n",
        "]"
      ],
      "execution_count": 0,
      "outputs": []
    },
    {
      "metadata": {
        "id": "IT51GYAR2VgU",
        "colab_type": "code",
        "colab": {
          "autoexec": {
            "startup": false,
            "wait_interval": 0
          },
          "base_uri": "https://localhost:8080/",
          "height": 306
        },
        "outputId": "8c224434-f21d-43bc-d3f7-2fcce21b394c",
        "executionInfo": {
          "status": "ok",
          "timestamp": 1532533159291,
          "user_tz": -330,
          "elapsed": 1123,
          "user": {
            "displayName": "Arth Dharaskar",
            "photoUrl": "https://lh3.googleusercontent.com/a/default-user=s128",
            "userId": "112750200661093479151"
          }
        }
      },
      "cell_type": "code",
      "source": [
        "model2.summary()"
      ],
      "execution_count": 322,
      "outputs": [
        {
          "output_type": "stream",
          "text": [
            "_________________________________________________________________\n",
            "Layer (type)                 Output Shape              Param #   \n",
            "=================================================================\n",
            "lstm_31 (LSTM)               (None, 20, 128)           84480     \n",
            "_________________________________________________________________\n",
            "dropout_31 (Dropout)         (None, 20, 128)           0         \n",
            "_________________________________________________________________\n",
            "lstm_32 (LSTM)               (None, 128)               131584    \n",
            "_________________________________________________________________\n",
            "dropout_32 (Dropout)         (None, 128)               0         \n",
            "_________________________________________________________________\n",
            "dense_20 (Dense)             (None, 36)                4644      \n",
            "=================================================================\n",
            "Total params: 220,708\n",
            "Trainable params: 220,708\n",
            "Non-trainable params: 0\n",
            "_________________________________________________________________\n"
          ],
          "name": "stdout"
        }
      ]
    },
    {
      "metadata": {
        "id": "wtfWEGgu4JoJ",
        "colab_type": "code",
        "colab": {
          "autoexec": {
            "startup": false,
            "wait_interval": 0
          },
          "base_uri": "https://localhost:8080/",
          "height": 3437
        },
        "outputId": "386dd1e1-92fd-4da7-ef0e-a982f2b537c8",
        "executionInfo": {
          "status": "ok",
          "timestamp": 1532537204692,
          "user_tz": -330,
          "elapsed": 4040299,
          "user": {
            "displayName": "Arth Dharaskar",
            "photoUrl": "https://lh3.googleusercontent.com/a/default-user=s128",
            "userId": "112750200661093479151"
          }
        }
      },
      "cell_type": "code",
      "source": [
        "epochs = 100\n",
        "\n",
        "history = model2.fit(x, y, batch_size=512, epochs=epochs, verbose =1, callbacks = callbacks_list)"
      ],
      "execution_count": 323,
      "outputs": [
        {
          "output_type": "stream",
          "text": [
            "Epoch 1/100\n",
            "200000/200000 [==============================] - 44s 219us/step - loss: 1.3396\n",
            "Epoch 2/100\n",
            "194560/200000 [============================>.] - ETA: 1s - loss: 1.3495"
          ],
          "name": "stdout"
        },
        {
          "output_type": "stream",
          "text": [
            "200000/200000 [==============================] - 41s 203us/step - loss: 1.3497\n",
            "Epoch 3/100\n",
            "200000/200000 [==============================] - 40s 202us/step - loss: 1.3041\n",
            "Epoch 4/100\n",
            " 68096/200000 [=========>....................] - ETA: 26s - loss: 1.2816"
          ],
          "name": "stdout"
        },
        {
          "output_type": "stream",
          "text": [
            "200000/200000 [==============================] - 41s 203us/step - loss: 1.2874\n",
            "Epoch 5/100\n",
            "200000/200000 [==============================] - 40s 201us/step - loss: 1.2737\n",
            "Epoch 6/100\n",
            " 26624/200000 [==>...........................] - ETA: 35s - loss: 1.2634"
          ],
          "name": "stdout"
        },
        {
          "output_type": "stream",
          "text": [
            "200000/200000 [==============================] - 40s 200us/step - loss: 1.2682\n",
            "Epoch 7/100\n",
            "200000/200000 [==============================] - 40s 201us/step - loss: 1.2640\n",
            "Epoch 8/100\n",
            " 11776/200000 [>.............................] - ETA: 38s - loss: 1.2403"
          ],
          "name": "stdout"
        },
        {
          "output_type": "stream",
          "text": [
            "200000/200000 [==============================] - 40s 199us/step - loss: 1.2594\n",
            "Epoch 9/100\n",
            "200000/200000 [==============================] - 40s 201us/step - loss: 1.2569\n",
            "Epoch 10/100\n",
            " 11776/200000 [>.............................] - ETA: 38s - loss: 1.2514"
          ],
          "name": "stdout"
        },
        {
          "output_type": "stream",
          "text": [
            "200000/200000 [==============================] - 40s 200us/step - loss: 1.2550\n",
            "Epoch 11/100\n",
            "200000/200000 [==============================] - 40s 200us/step - loss: 1.2490\n",
            "Epoch 12/100\n",
            "  9216/200000 [>.............................] - ETA: 39s - loss: 1.2698"
          ],
          "name": "stdout"
        },
        {
          "output_type": "stream",
          "text": [
            "200000/200000 [==============================] - 40s 202us/step - loss: 1.2484\n",
            "Epoch 13/100\n",
            "200000/200000 [==============================] - 40s 202us/step - loss: 1.2449\n",
            "Epoch 14/100\n",
            " 11776/200000 [>.............................] - ETA: 38s - loss: 1.2445"
          ],
          "name": "stdout"
        },
        {
          "output_type": "stream",
          "text": [
            "200000/200000 [==============================] - 40s 202us/step - loss: 1.2427\n",
            "Epoch 15/100\n",
            "200000/200000 [==============================] - 40s 201us/step - loss: 1.2425\n",
            "Epoch 16/100\n",
            " 11776/200000 [>.............................] - ETA: 38s - loss: 1.2827"
          ],
          "name": "stdout"
        },
        {
          "output_type": "stream",
          "text": [
            "200000/200000 [==============================] - 40s 199us/step - loss: 1.2383\n",
            "Epoch 17/100\n",
            "200000/200000 [==============================] - 40s 199us/step - loss: 1.2376\n",
            "Epoch 18/100\n",
            "  3072/200000 [..............................] - ETA: 42s - loss: 1.2363"
          ],
          "name": "stdout"
        },
        {
          "output_type": "stream",
          "text": [
            "200000/200000 [==============================] - 40s 200us/step - loss: 1.2359\n",
            "Epoch 19/100\n",
            "200000/200000 [==============================] - 39s 197us/step - loss: 1.2359\n",
            "Epoch 20/100\n",
            "  5632/200000 [..............................] - ETA: 40s - loss: 1.2642"
          ],
          "name": "stdout"
        },
        {
          "output_type": "stream",
          "text": [
            "200000/200000 [==============================] - 40s 199us/step - loss: 1.2282\n",
            "Epoch 21/100\n",
            "200000/200000 [==============================] - 40s 198us/step - loss: 1.2280\n",
            "Epoch 22/100\n",
            "  9216/200000 [>.............................] - ETA: 39s - loss: 1.2129"
          ],
          "name": "stdout"
        },
        {
          "output_type": "stream",
          "text": [
            "200000/200000 [==============================] - 40s 198us/step - loss: 1.2252\n",
            "Epoch 23/100\n",
            "200000/200000 [==============================] - 40s 200us/step - loss: 1.2274\n",
            "Epoch 24/100\n",
            "  8192/200000 [>.............................] - ETA: 38s - loss: 1.2201"
          ],
          "name": "stdout"
        },
        {
          "output_type": "stream",
          "text": [
            "200000/200000 [==============================] - 40s 199us/step - loss: 1.2245\n",
            "Epoch 25/100\n",
            "200000/200000 [==============================] - 40s 202us/step - loss: 1.2253\n",
            "Epoch 26/100\n",
            " 12800/200000 [>.............................] - ETA: 38s - loss: 1.2208"
          ],
          "name": "stdout"
        },
        {
          "output_type": "stream",
          "text": [
            "200000/200000 [==============================] - 40s 202us/step - loss: 1.2242\n",
            "Epoch 27/100\n",
            "200000/200000 [==============================] - 40s 201us/step - loss: 1.2275\n",
            "Epoch 28/100\n",
            "  8192/200000 [>.............................] - ETA: 38s - loss: 1.2292"
          ],
          "name": "stdout"
        },
        {
          "output_type": "stream",
          "text": [
            "200000/200000 [==============================] - 40s 202us/step - loss: 1.2304\n",
            "Epoch 29/100\n",
            "200000/200000 [==============================] - 40s 202us/step - loss: 1.2258\n",
            "Epoch 30/100\n",
            " 12288/200000 [>.............................] - ETA: 37s - loss: 1.2193"
          ],
          "name": "stdout"
        },
        {
          "output_type": "stream",
          "text": [
            "200000/200000 [==============================] - 40s 201us/step - loss: 1.2256\n",
            "Epoch 31/100\n",
            "200000/200000 [==============================] - 40s 201us/step - loss: 1.2257\n",
            "Epoch 32/100\n",
            " 11264/200000 [>.............................] - ETA: 38s - loss: 1.2365"
          ],
          "name": "stdout"
        },
        {
          "output_type": "stream",
          "text": [
            "200000/200000 [==============================] - 40s 202us/step - loss: 1.2248\n",
            "Epoch 33/100\n",
            "200000/200000 [==============================] - 40s 202us/step - loss: 1.2255\n",
            "Epoch 34/100\n",
            " 12288/200000 [>.............................] - ETA: 37s - loss: 1.2234"
          ],
          "name": "stdout"
        },
        {
          "output_type": "stream",
          "text": [
            "200000/200000 [==============================] - 41s 203us/step - loss: 1.2283\n",
            "Epoch 35/100\n",
            "200000/200000 [==============================] - 40s 202us/step - loss: 1.2243\n",
            "Epoch 36/100\n",
            " 13312/200000 [>.............................] - ETA: 37s - loss: 1.2283"
          ],
          "name": "stdout"
        },
        {
          "output_type": "stream",
          "text": [
            "200000/200000 [==============================] - 40s 200us/step - loss: 1.2276\n",
            "Epoch 37/100\n",
            "200000/200000 [==============================] - 39s 197us/step - loss: 1.2253\n",
            "Epoch 38/100\n",
            "  8192/200000 [>.............................] - ETA: 37s - loss: 1.2143"
          ],
          "name": "stdout"
        },
        {
          "output_type": "stream",
          "text": [
            "200000/200000 [==============================] - 39s 196us/step - loss: 1.2253\n",
            "Epoch 39/100\n",
            "200000/200000 [==============================] - 39s 197us/step - loss: 1.2246\n",
            "Epoch 40/100\n",
            "  5120/200000 [..............................] - ETA: 39s - loss: 1.1885"
          ],
          "name": "stdout"
        },
        {
          "output_type": "stream",
          "text": [
            "200000/200000 [==============================] - 40s 198us/step - loss: 1.2265\n",
            "Epoch 41/100\n",
            "200000/200000 [==============================] - 40s 199us/step - loss: 1.2255\n",
            "Epoch 42/100\n",
            "  2560/200000 [..............................] - ETA: 39s - loss: 1.2233"
          ],
          "name": "stdout"
        },
        {
          "output_type": "stream",
          "text": [
            "200000/200000 [==============================] - 40s 199us/step - loss: 1.2226\n",
            "Epoch 43/100\n",
            "200000/200000 [==============================] - 40s 201us/step - loss: 1.2239\n",
            "Epoch 44/100\n",
            "  4608/200000 [..............................] - ETA: 39s - loss: 1.2306"
          ],
          "name": "stdout"
        },
        {
          "output_type": "stream",
          "text": [
            "200000/200000 [==============================] - 40s 198us/step - loss: 1.2239\n",
            "Epoch 45/100\n",
            "200000/200000 [==============================] - 40s 199us/step - loss: 1.2262\n",
            "Epoch 46/100\n",
            "  1024/200000 [..............................] - ETA: 40s - loss: 1.2245"
          ],
          "name": "stdout"
        },
        {
          "output_type": "stream",
          "text": [
            "200000/200000 [==============================] - 40s 200us/step - loss: 1.2241\n",
            "Epoch 47/100\n",
            "200000/200000 [==============================] - 40s 199us/step - loss: 1.2248\n",
            "Epoch 48/100\n",
            "  2048/200000 [..............................] - ETA: 39s - loss: 1.1760"
          ],
          "name": "stdout"
        },
        {
          "output_type": "stream",
          "text": [
            "200000/200000 [==============================] - 40s 199us/step - loss: 1.2265\n",
            "Epoch 49/100\n",
            "200000/200000 [==============================] - 40s 200us/step - loss: 1.2236\n",
            "Epoch 50/100\n",
            "   512/200000 [..............................] - ETA: 41s - loss: 1.2015"
          ],
          "name": "stdout"
        },
        {
          "output_type": "stream",
          "text": [
            "200000/200000 [==============================] - 40s 200us/step - loss: 1.2265\n",
            "Epoch 51/100\n",
            "200000/200000 [==============================] - 40s 199us/step - loss: 1.2244\n",
            "Epoch 52/100\n",
            "  5120/200000 [..............................] - ETA: 39s - loss: 1.2160"
          ],
          "name": "stdout"
        },
        {
          "output_type": "stream",
          "text": [
            "200000/200000 [==============================] - 40s 199us/step - loss: 1.2259\n",
            "Epoch 53/100\n",
            "200000/200000 [==============================] - 40s 200us/step - loss: 1.2267\n",
            "Epoch 54/100\n",
            "  6656/200000 [..............................] - ETA: 38s - loss: 1.2098"
          ],
          "name": "stdout"
        },
        {
          "output_type": "stream",
          "text": [
            "200000/200000 [==============================] - 40s 199us/step - loss: 1.2253\n",
            "Epoch 55/100\n",
            "200000/200000 [==============================] - 40s 200us/step - loss: 1.2267\n",
            "Epoch 56/100\n",
            "  5632/200000 [..............................] - ETA: 38s - loss: 1.2350"
          ],
          "name": "stdout"
        },
        {
          "output_type": "stream",
          "text": [
            "200000/200000 [==============================] - 40s 200us/step - loss: 1.2252\n",
            "Epoch 57/100\n",
            "200000/200000 [==============================] - 40s 199us/step - loss: 1.2241\n",
            "Epoch 58/100\n",
            "  3072/200000 [..............................] - ETA: 39s - loss: 1.2589"
          ],
          "name": "stdout"
        },
        {
          "output_type": "stream",
          "text": [
            "200000/200000 [==============================] - 40s 200us/step - loss: 1.2248\n",
            "Epoch 59/100\n",
            "200000/200000 [==============================] - 40s 199us/step - loss: 1.2242\n",
            "Epoch 60/100\n",
            "  5632/200000 [..............................] - ETA: 38s - loss: 1.2096"
          ],
          "name": "stdout"
        },
        {
          "output_type": "stream",
          "text": [
            "200000/200000 [==============================] - 40s 199us/step - loss: 1.2255\n",
            "Epoch 61/100\n",
            "200000/200000 [==============================] - 40s 200us/step - loss: 1.2256\n",
            "Epoch 62/100\n",
            "  5120/200000 [..............................] - ETA: 38s - loss: 1.2319"
          ],
          "name": "stdout"
        },
        {
          "output_type": "stream",
          "text": [
            "200000/200000 [==============================] - 40s 199us/step - loss: 1.2253\n",
            "Epoch 63/100\n",
            "200000/200000 [==============================] - 40s 200us/step - loss: 1.2265\n",
            "Epoch 64/100\n",
            "  5632/200000 [..............................] - ETA: 39s - loss: 1.2341"
          ],
          "name": "stdout"
        },
        {
          "output_type": "stream",
          "text": [
            "200000/200000 [==============================] - 40s 200us/step - loss: 1.2231\n",
            "Epoch 65/100\n",
            "200000/200000 [==============================] - 40s 201us/step - loss: 1.2287\n",
            "Epoch 66/100\n",
            "  9216/200000 [>.............................] - ETA: 38s - loss: 1.2264"
          ],
          "name": "stdout"
        },
        {
          "output_type": "stream",
          "text": [
            "200000/200000 [==============================] - 40s 201us/step - loss: 1.2250\n",
            "Epoch 67/100\n",
            "200000/200000 [==============================] - 40s 200us/step - loss: 1.2238\n",
            "Epoch 68/100\n",
            "  8192/200000 [>.............................] - ETA: 38s - loss: 1.1908"
          ],
          "name": "stdout"
        },
        {
          "output_type": "stream",
          "text": [
            "200000/200000 [==============================] - 40s 199us/step - loss: 1.2251\n",
            "Epoch 69/100\n",
            "199168/200000 [============================>.] - ETA: 0s - loss: 1.2245"
          ],
          "name": "stdout"
        },
        {
          "output_type": "stream",
          "text": [
            "200000/200000 [==============================] - 40s 198us/step - loss: 1.2246\n",
            "Epoch 70/100\n",
            "200000/200000 [==============================] - 40s 198us/step - loss: 1.2247\n",
            "Epoch 71/100\n",
            " 56320/200000 [=======>......................] - ETA: 28s - loss: 1.2328"
          ],
          "name": "stdout"
        },
        {
          "output_type": "stream",
          "text": [
            "200000/200000 [==============================] - 40s 200us/step - loss: 1.2250\n",
            "Epoch 72/100\n",
            "200000/200000 [==============================] - 40s 200us/step - loss: 1.2249\n",
            "Epoch 73/100\n",
            " 18944/200000 [=>............................] - ETA: 36s - loss: 1.2084"
          ],
          "name": "stdout"
        },
        {
          "output_type": "stream",
          "text": [
            "200000/200000 [==============================] - 40s 199us/step - loss: 1.2254\n",
            "Epoch 74/100\n",
            "200000/200000 [==============================] - 40s 199us/step - loss: 1.2250\n",
            "Epoch 75/100\n",
            "  8192/200000 [>.............................] - ETA: 38s - loss: 1.2395"
          ],
          "name": "stdout"
        },
        {
          "output_type": "stream",
          "text": [
            "200000/200000 [==============================] - 40s 199us/step - loss: 1.2243\n",
            "Epoch 76/100\n",
            "200000/200000 [==============================] - 40s 198us/step - loss: 1.2250\n",
            "Epoch 77/100\n",
            "  7168/200000 [>.............................] - ETA: 38s - loss: 1.2187"
          ],
          "name": "stdout"
        },
        {
          "output_type": "stream",
          "text": [
            "200000/200000 [==============================] - 40s 201us/step - loss: 1.2254\n",
            "Epoch 78/100\n",
            "200000/200000 [==============================] - 40s 199us/step - loss: 1.2237\n",
            "Epoch 79/100\n",
            "  5632/200000 [..............................] - ETA: 39s - loss: 1.2225"
          ],
          "name": "stdout"
        },
        {
          "output_type": "stream",
          "text": [
            "200000/200000 [==============================] - 40s 200us/step - loss: 1.2273\n",
            "Epoch 80/100\n",
            "200000/200000 [==============================] - 40s 201us/step - loss: 1.2240\n",
            "Epoch 81/100\n",
            "  6656/200000 [..............................] - ETA: 38s - loss: 1.2282"
          ],
          "name": "stdout"
        },
        {
          "output_type": "stream",
          "text": [
            "200000/200000 [==============================] - 40s 200us/step - loss: 1.2245\n",
            "Epoch 82/100\n",
            "200000/200000 [==============================] - 40s 199us/step - loss: 1.2246\n",
            "Epoch 83/100\n",
            "  3072/200000 [..............................] - ETA: 39s - loss: 1.2485"
          ],
          "name": "stdout"
        },
        {
          "output_type": "stream",
          "text": [
            "200000/200000 [==============================] - 40s 198us/step - loss: 1.2240\n",
            "Epoch 84/100\n",
            "200000/200000 [==============================] - 39s 197us/step - loss: 1.2257\n",
            "Epoch 85/100\n",
            "  2048/200000 [..............................] - ETA: 39s - loss: 1.2303"
          ],
          "name": "stdout"
        },
        {
          "output_type": "stream",
          "text": [
            "200000/200000 [==============================] - 40s 199us/step - loss: 1.2272\n",
            "Epoch 86/100\n",
            "200000/200000 [==============================] - 40s 199us/step - loss: 1.2256\n",
            "Epoch 87/100\n",
            "  4096/200000 [..............................] - ETA: 38s - loss: 1.2252"
          ],
          "name": "stdout"
        },
        {
          "output_type": "stream",
          "text": [
            "200000/200000 [==============================] - 40s 198us/step - loss: 1.2255\n",
            "Epoch 88/100\n",
            "200000/200000 [==============================] - 40s 198us/step - loss: 1.2250\n",
            "Epoch 89/100\n",
            "  3584/200000 [..............................] - ETA: 39s - loss: 1.2129"
          ],
          "name": "stdout"
        },
        {
          "output_type": "stream",
          "text": [
            "200000/200000 [==============================] - 40s 199us/step - loss: 1.2266\n",
            "Epoch 90/100\n",
            "200000/200000 [==============================] - 40s 199us/step - loss: 1.2250\n",
            "Epoch 91/100\n",
            "  3584/200000 [..............................] - ETA: 39s - loss: 1.2049"
          ],
          "name": "stdout"
        },
        {
          "output_type": "stream",
          "text": [
            "200000/200000 [==============================] - 39s 197us/step - loss: 1.2247\n",
            "Epoch 92/100\n",
            "193536/200000 [============================>.] - ETA: 1s - loss: 1.2268"
          ],
          "name": "stdout"
        },
        {
          "output_type": "stream",
          "text": [
            "200000/200000 [==============================] - 39s 196us/step - loss: 1.2263\n",
            "Epoch 93/100\n",
            "200000/200000 [==============================] - 39s 197us/step - loss: 1.2242\n",
            "Epoch 94/100\n",
            " 56320/200000 [=======>......................] - ETA: 28s - loss: 1.2243"
          ],
          "name": "stdout"
        },
        {
          "output_type": "stream",
          "text": [
            "200000/200000 [==============================] - 39s 196us/step - loss: 1.2260\n",
            "Epoch 95/100\n",
            "200000/200000 [==============================] - 39s 197us/step - loss: 1.2259\n",
            "Epoch 96/100\n",
            " 16896/200000 [=>............................] - ETA: 36s - loss: 1.2292"
          ],
          "name": "stdout"
        },
        {
          "output_type": "stream",
          "text": [
            "200000/200000 [==============================] - 39s 197us/step - loss: 1.2256\n",
            "Epoch 97/100\n",
            "200000/200000 [==============================] - 39s 196us/step - loss: 1.2222\n",
            "Epoch 98/100\n",
            "  7168/200000 [>.............................] - ETA: 40s - loss: 1.2320"
          ],
          "name": "stdout"
        },
        {
          "output_type": "stream",
          "text": [
            "200000/200000 [==============================] - 40s 199us/step - loss: 1.2275\n",
            "Epoch 99/100\n",
            "200000/200000 [==============================] - 40s 200us/step - loss: 1.2235\n",
            "Epoch 100/100\n",
            "  7168/200000 [>.............................] - ETA: 37s - loss: 1.2053"
          ],
          "name": "stdout"
        },
        {
          "output_type": "stream",
          "text": [
            "200000/200000 [==============================] - 40s 199us/step - loss: 1.2248\n"
          ],
          "name": "stdout"
        }
      ]
    },
    {
      "metadata": {
        "id": "-RtAQwD9BrP7",
        "colab_type": "code",
        "colab": {
          "autoexec": {
            "startup": false,
            "wait_interval": 0
          }
        }
      },
      "cell_type": "code",
      "source": [
        "def sample(preds, temperature= 0.2):\n",
        "    preds = np.reshape(preds,preds.shape[-1])\n",
        "    preds = np.asarray(preds).astype('float64')\n",
        "    preds = np.log(preds+1e-25)/ temperature\n",
        "    exp_preds = np.exp(preds)\n",
        "    preds = exp_preds / np.sum(exp_preds)\n",
        "    probas = np.random.multinomial(1,preds, 1)\n",
        "    return np.argmax(probas)"
      ],
      "execution_count": 0,
      "outputs": []
    },
    {
      "metadata": {
        "id": "_TF9gp-iuSYe",
        "colab_type": "code",
        "colab": {
          "autoexec": {
            "startup": false,
            "wait_interval": 0
          }
        }
      },
      "cell_type": "code",
      "source": [
        "def inference(sent):\n",
        "  string_length=20\n",
        "  string_revised=sent.ljust(string_length)\n",
        "  return string_revised"
      ],
      "execution_count": 0,
      "outputs": []
    },
    {
      "metadata": {
        "id": "i8igOnadZGmg",
        "colab_type": "code",
        "colab": {
          "autoexec": {
            "startup": false,
            "wait_interval": 0
          },
          "base_uri": "https://localhost:8080/",
          "height": 280
        },
        "outputId": "0c5f03fd-ad25-415e-80ad-7de60b2bb3b5",
        "executionInfo": {
          "status": "ok",
          "timestamp": 1532537235362,
          "user_tz": -330,
          "elapsed": 1543,
          "user": {
            "displayName": "Arth Dharaskar",
            "photoUrl": "https://lh3.googleusercontent.com/a/default-user=s128",
            "userId": "112750200661093479151"
          }
        }
      },
      "cell_type": "code",
      "source": [
        "import matplotlib.pyplot as plt\n",
        "loss = history.history['loss']\n",
        "# val_loss = history.history['val_loss']\n",
        "epochs = range(1, len(loss) + 1)\n",
        "plt.figure()\n",
        "plt.plot(epochs, loss, 'bo', label='Training loss')\n",
        "# plt.plot(epochs, val_loss, 'b', label='Validation loss')\n",
        "plt.title('Training and validation loss')\n",
        "plt.legend()\n",
        "plt.show()"
      ],
      "execution_count": 327,
      "outputs": [
        {
          "output_type": "display_data",
          "data": {
            "image/png": "[encoded data removed]",
            "text/plain": [
              "<matplotlib.figure.Figure at 0x7f2193333c88>"
            ]
          },
          "metadata": {
            "tags": []
          }
        }
      ]
    },
    {
      "metadata": {
        "id": "i5g2vSgh2yEY",
        "colab_type": "code",
        "colab": {
          "autoexec": {
            "startup": false,
            "wait_interval": 0
          },
          "base_uri": "https://localhost:8080/",
          "height": 357
        },
        "outputId": "01e5a218-2085-4d7f-9db1-e3b793875d92",
        "executionInfo": {
          "status": "ok",
          "timestamp": 1532538311493,
          "user_tz": -330,
          "elapsed": 21524,
          "user": {
            "displayName": "Arth Dharaskar",
            "photoUrl": "https://lh3.googleusercontent.com/a/default-user=s128",
            "userId": "112750200661093479151"
          }
        }
      },
      "cell_type": "code",
      "source": [
        "start_word=\"love \"\n",
        "inference_text = inference(start_word)\n",
        "\n",
        "for i in range(10):\n",
        "    sys.stdout.write(inference_text.strip()+\" \")\n",
        "    generated_text = inference_text[:20]+\"\"\n",
        "    for i in range(100):\n",
        "      sampled = np.zeros((1, max_len, n_tokens))\n",
        "      for t, char in enumerate(generated_text):\n",
        "          sampled[0, t, word_index[char]] = 1.\n",
        "      preds = model2.predict(sampled, verbose=0)[0]\n",
        "      next_index = sample(preds, temperature)\n",
        "      next_char = index2char[next_index]\n",
        "      if next_char =='\\n':\n",
        "        \n",
        "        break\n",
        "      generated_text += next_char\n",
        "      generated_text = generated_text[1:]\n",
        "      sys.stdout.write(next_char)\n",
        "    print(\"\\n-\")"
      ],
      "execution_count": 363,
      "outputs": [
        {
          "output_type": "stream",
          "text": [
            "love who love has not a car completely do it and the art of the picking to see and i get to realize that \n",
            "-\n",
            "love and the way i'm not at the family and there's a songs because i was a major thinking and you feel th\n",
            "-\n",
            "love your dad in the environment are in the world. \n",
            "-\n",
            "love with the family about something when i always the only came so much something he does not change a p\n",
            "-\n",
            "love you are cool. \n",
            "-\n",
            "love it is best of the courage to person and the people are not going to spent it that we can all somethi\n",
            "-\n",
            "love really death is to me my car is the most beauty of the good and a same things i was a children, and \n",
            "-\n",
            "love with it - that was not our song in the product and a man of the publing the ompare time of created i\n",
            "-\n",
            "love you delicism is the formula is a little amazing. \n",
            "-\n",
            "love is me and i was a country to be in the best sense of the cool to come out to present a food with my \n",
            "-\n"
          ],
          "name": "stdout"
        }
      ]
    },
    {
      "metadata": {
        "id": "7OIfWMkl6tFg",
        "colab_type": "code",
        "colab": {
          "autoexec": {
            "startup": false,
            "wait_interval": 0
          }
        }
      },
      "cell_type": "code",
      "source": [
        ""
      ],
      "execution_count": 0,
      "outputs": []
    }
  ]
}