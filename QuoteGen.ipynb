{
  "nbformat": 4,
  "nbformat_minor": 0,
  "metadata": {
    "colab": {
      "name": "QuoteGen.ipynb",
      "version": "0.3.2",
      "views": {},
      "default_view": {},
      "provenance": [],
      "collapsed_sections": []
    },
    "kernelspec": {
      "name": "python3",
      "display_name": "Python 3"
    },
    "accelerator": "GPU"
  },
  "cells": [
    {
      "metadata": {
        "id": "2dIwkqRNsBqM",
        "colab_type": "code",
        "colab": {
          "autoexec": {
            "startup": false,
            "wait_interval": 0
          },
          "base_uri": "https://localhost:8080/",
          "height": 105
        },
        "outputId": "1df45aa7-149e-41e2-86f8-a0e314aa764a",
        "executionInfo": {
          "status": "ok",
          "timestamp": 1532325097361,
          "user_tz": -330,
          "elapsed": 14816,
          "user": {
            "displayName": "Arth Dh",
            "photoUrl": "//lh5.googleusercontent.com/-k3dUymHUDVw/AAAAAAAAAAI/AAAAAAAANZs/XNCIjM0QmZU/s50-c-k-no/photo.jpg",
            "userId": "110320452319374550954"
          }
        }
      },
      "cell_type": "code",
      "source": [
        "!apt-get install -y -qq software-properties-common python-software-properties module-init-tools\n",
        "!add-apt-repository -y ppa:alessandro-strada/ppa 2>&1 > /dev/null\n",
        "!apt-get update -qq 2>&1 > /dev/null\n",
        "!apt-get -y install -qq google-drive-ocamlfuse fuse\n",
        "from google.colab import auth\n",
        "auth.authenticate_user()\n",
        "from oauth2client.client import GoogleCredentials\n",
        "creds = GoogleCredentials.get_application_default()\n",
        "import getpass\n",
        "!google-drive-ocamlfuse -headless -id={creds.client_id} -secret={creds.client_secret} < /dev/null 2>&1 | grep URL\n",
        "vcode = getpass.getpass()\n",
        "!echo {vcode} | google-drive-ocamlfuse -headless -id={creds.client_id} -secret={creds.client_secret}"
      ],
      "execution_count": 1,
      "outputs": [
        {
          "output_type": "stream",
          "text": [
            "Please, open the following URL in a web browser: https://accounts.google.com/o/oauth2/auth?client_id=32555940559.apps.googleusercontent.com&redirect_uri=urn%3Aietf%3Awg%3Aoauth%3A2.0%3Aoob&scope=https%3A%2F%2Fwww.googleapis.com%2Fauth%2Fdrive&response_type=code&access_type=offline&approval_prompt=force\r\n",
            "··········\n",
            "Please, open the following URL in a web browser: https://accounts.google.com/o/oauth2/auth?client_id=32555940559.apps.googleusercontent.com&redirect_uri=urn%3Aietf%3Awg%3Aoauth%3A2.0%3Aoob&scope=https%3A%2F%2Fwww.googleapis.com%2Fauth%2Fdrive&response_type=code&access_type=offline&approval_prompt=force\n",
            "Please enter the verification code: Access token retrieved correctly.\n"
          ],
          "name": "stdout"
        }
      ]
    },
    {
      "metadata": {
        "id": "exAoOlmmshnT",
        "colab_type": "code",
        "colab": {
          "autoexec": {
            "startup": false,
            "wait_interval": 0
          }
        }
      },
      "cell_type": "code",
      "source": [
        "!mkdir -p drive\n",
        "!google-drive-ocamlfuse drive"
      ],
      "execution_count": 0,
      "outputs": []
    },
    {
      "metadata": {
        "id": "VOuOdTB90Uj9",
        "colab_type": "code",
        "colab": {
          "autoexec": {
            "startup": false,
            "wait_interval": 0
          },
          "base_uri": "https://localhost:8080/",
          "height": 34
        },
        "outputId": "3c140cbf-0e29-4e81-829d-2b440cd97184",
        "executionInfo": {
          "status": "ok",
          "timestamp": 1532326153812,
          "user_tz": -330,
          "elapsed": 1937,
          "user": {
            "displayName": "Arth Dh",
            "photoUrl": "//lh5.googleusercontent.com/-k3dUymHUDVw/AAAAAAAAAAI/AAAAAAAANZs/XNCIjM0QmZU/s50-c-k-no/photo.jpg",
            "userId": "110320452319374550954"
          }
        }
      },
      "cell_type": "code",
      "source": [
        "!ls"
      ],
      "execution_count": 35,
      "outputs": [
        {
          "output_type": "stream",
          "text": [
            "datalab  drive\r\n"
          ],
          "name": "stdout"
        }
      ]
    },
    {
      "metadata": {
        "id": "e-X7Mszfs5Tq",
        "colab_type": "code",
        "colab": {
          "autoexec": {
            "startup": false,
            "wait_interval": 0
          },
          "base_uri": "https://localhost:8080/",
          "height": 34
        },
        "outputId": "0a02be69-b0ca-43f5-e67a-c0cb385cfee2",
        "executionInfo": {
          "status": "ok",
          "timestamp": 1532326154950,
          "user_tz": -330,
          "elapsed": 802,
          "user": {
            "displayName": "Arth Dh",
            "photoUrl": "//lh5.googleusercontent.com/-k3dUymHUDVw/AAAAAAAAAAI/AAAAAAAANZs/XNCIjM0QmZU/s50-c-k-no/photo.jpg",
            "userId": "110320452319374550954"
          }
        }
      },
      "cell_type": "code",
      "source": [
        "import tensorflow as tf\n",
        "device_name = tf.test.gpu_device_name()\n",
        "if device_name != '/device:GPU:0':\n",
        "  raise SystemError('GPU device not found')\n",
        "print('Found GPU at: {}'.format(device_name))\n"
      ],
      "execution_count": 36,
      "outputs": [
        {
          "output_type": "stream",
          "text": [
            "Found GPU at: /device:GPU:0\n"
          ],
          "name": "stdout"
        }
      ]
    },
    {
      "metadata": {
        "id": "9Wa8lhcAthuQ",
        "colab_type": "code",
        "colab": {
          "autoexec": {
            "startup": false,
            "wait_interval": 0
          }
        }
      },
      "cell_type": "code",
      "source": [
        "import keras\n",
        "import numpy as np\n",
        "import os\n",
        "import pandas as pd\n",
        "import matplotlib.pyplot as plt\n",
        "import pickle\n",
        "import sys\n",
        "%matplotlib inline"
      ],
      "execution_count": 0,
      "outputs": []
    },
    {
      "metadata": {
        "id": "JVnjBIhmtlYV",
        "colab_type": "code",
        "colab": {
          "autoexec": {
            "startup": false,
            "wait_interval": 0
          }
        }
      },
      "cell_type": "code",
      "source": [
        "data_path = 'drive/projects/QuoteGen/data'\n",
        "if not os.path.exists(data_path):\n",
        "  os.mkdir(data_path)"
      ],
      "execution_count": 0,
      "outputs": []
    },
    {
      "metadata": {
        "id": "4a7YZ4Hdt7d5",
        "colab_type": "code",
        "colab": {
          "autoexec": {
            "startup": false,
            "wait_interval": 0
          }
        }
      },
      "cell_type": "code",
      "source": [
        "models_path = 'drive/projects/QuoteGen/models'\n",
        "if not os.path.exists(models_path):\n",
        "  os.mkdir(models_path)"
      ],
      "execution_count": 0,
      "outputs": []
    },
    {
      "metadata": {
        "id": "Se5OLz9HuJ7f",
        "colab_type": "code",
        "colab": {
          "autoexec": {
            "startup": false,
            "wait_interval": 0
          }
        }
      },
      "cell_type": "code",
      "source": [
        "data_txt = os.path.join(data_path, 'quotes.txt')\n",
        "data_csv = os.path.join(data_path, 'quotes_all.csv')"
      ],
      "execution_count": 0,
      "outputs": []
    },
    {
      "metadata": {
        "id": "gmSAlwQCuP1b",
        "colab_type": "code",
        "colab": {
          "autoexec": {
            "startup": false,
            "wait_interval": 0
          },
          "base_uri": "https://localhost:8080/",
          "height": 34
        },
        "outputId": "0403c291-8b2e-4dc0-afa1-b560fe997609",
        "executionInfo": {
          "status": "ok",
          "timestamp": 1532326162394,
          "user_tz": -330,
          "elapsed": 1074,
          "user": {
            "displayName": "Arth Dh",
            "photoUrl": "//lh5.googleusercontent.com/-k3dUymHUDVw/AAAAAAAAAAI/AAAAAAAANZs/XNCIjM0QmZU/s50-c-k-no/photo.jpg",
            "userId": "110320452319374550954"
          }
        }
      },
      "cell_type": "code",
      "source": [
        "quotes_ds = []\n",
        "if os.path.exists(os.path.join(data_path,\"quotes_pickle.pkl\")):\n",
        "  with open(os.path.join(data_path,\"quotes_pickle.pkl\"),'rb') as f:\n",
        "    quotes_ds = pickle.load(f)\n",
        "else:\n",
        "  with open(data_csv) as f:\n",
        "    for line in f.readlines():\n",
        "      quotes_ds.append(line.split(\";\")[0])\n",
        "  # Pickling the dataset\n",
        "  if not os.path.exists(os.path.join(data_path,'quotes_pickle.pkl')):\n",
        "    out = open(os.path.join(data_path,\"quotes_pickle.pkl\"),'wb')\n",
        "    pickle.dump(quotes_ds, out)\n",
        "print(\"Found %d quotes\"%len(quotes_ds))"
      ],
      "execution_count": 41,
      "outputs": [
        {
          "output_type": "stream",
          "text": [
            "Found 75966 quotes\n"
          ],
          "name": "stdout"
        }
      ]
    },
    {
      "metadata": {
        "id": "dguBhlB2PH8j",
        "colab_type": "code",
        "colab": {
          "autoexec": {
            "startup": false,
            "wait_interval": 0
          }
        }
      },
      "cell_type": "code",
      "source": [
        "def clean_sentences(sentences):\n",
        "    n_sentences=[]\n",
        "    temp = ''\n",
        "    for sentence in sentences:\n",
        "      temp = \"\\t \"+sentence+ \" \\n\"\n",
        "      n_sentences.append(temp)\n",
        "      temp=''\n",
        "    return n_sentences"
      ],
      "execution_count": 0,
      "outputs": []
    },
    {
      "metadata": {
        "id": "c9MWrIYOPJRS",
        "colab_type": "code",
        "colab": {
          "autoexec": {
            "startup": false,
            "wait_interval": 0
          }
        }
      },
      "cell_type": "code",
      "source": [
        "cleaned_quotes = clean_sentences(quotes_ds)"
      ],
      "execution_count": 0,
      "outputs": []
    },
    {
      "metadata": {
        "id": "8rZQCvpcLDyD",
        "colab_type": "code",
        "colab": {
          "autoexec": {
            "startup": false,
            "wait_interval": 0
          },
          "base_uri": "https://localhost:8080/",
          "height": 34
        },
        "outputId": "8b90a2ef-7b53-4f17-ec56-4866262f5113",
        "executionInfo": {
          "status": "ok",
          "timestamp": 1532326166909,
          "user_tz": -330,
          "elapsed": 1112,
          "user": {
            "displayName": "Arth Dh",
            "photoUrl": "//lh5.googleusercontent.com/-k3dUymHUDVw/AAAAAAAAAAI/AAAAAAAANZs/XNCIjM0QmZU/s50-c-k-no/photo.jpg",
            "userId": "110320452319374550954"
          }
        }
      },
      "cell_type": "code",
      "source": [
        "cleaned_quotes[0]"
      ],
      "execution_count": 44,
      "outputs": [
        {
          "output_type": "execute_result",
          "data": {
            "text/plain": [
              "\"\\t Age is an issue of mind over matter. If you don't mind, it doesn't matter. \\n\""
            ]
          },
          "metadata": {
            "tags": []
          },
          "execution_count": 44
        }
      ]
    },
    {
      "metadata": {
        "id": "djZRogJjucVv",
        "colab_type": "code",
        "colab": {
          "autoexec": {
            "startup": false,
            "wait_interval": 0
          }
        }
      },
      "cell_type": "code",
      "source": [
        "from keras.preprocessing.text import Tokenizer\n",
        "from keras.preprocessing.sequence import pad_sequences"
      ],
      "execution_count": 0,
      "outputs": []
    },
    {
      "metadata": {
        "id": "S6YpWSS9v_vG",
        "colab_type": "code",
        "colab": {
          "autoexec": {
            "startup": false,
            "wait_interval": 0
          },
          "base_uri": "https://localhost:8080/",
          "height": 34
        },
        "outputId": "4ac35b9b-60fe-44ec-913b-43711024d12d",
        "executionInfo": {
          "status": "ok",
          "timestamp": 1532326224127,
          "user_tz": -330,
          "elapsed": 7078,
          "user": {
            "displayName": "Arth Dh",
            "photoUrl": "//lh5.googleusercontent.com/-k3dUymHUDVw/AAAAAAAAAAI/AAAAAAAANZs/XNCIjM0QmZU/s50-c-k-no/photo.jpg",
            "userId": "110320452319374550954"
          }
        }
      },
      "cell_type": "code",
      "source": [
        "tokenizer = Tokenizer(lower=True, split=' ', char_level=True)\n",
        "tokenizer.fit_on_texts(cleaned_quotes)\n",
        "sequences = tokenizer.texts_to_sequences(cleaned_quotes)\n",
        "\n",
        "word_index = tokenizer.word_index\n",
        "print('Found %d unique tokens.' % len(word_index))"
      ],
      "execution_count": 46,
      "outputs": [
        {
          "output_type": "stream",
          "text": [
            "Found 83 unique tokens.\n"
          ],
          "name": "stdout"
        }
      ]
    },
    {
      "metadata": {
        "id": "v76TJeyVxg_2",
        "colab_type": "code",
        "colab": {
          "autoexec": {
            "startup": false,
            "wait_interval": 0
          }
        }
      },
      "cell_type": "code",
      "source": [
        "index2char = {}\n",
        "for ch in tokenizer.word_index:\n",
        "  index2char[tokenizer.word_index.get(ch)] = ch"
      ],
      "execution_count": 0,
      "outputs": []
    },
    {
      "metadata": {
        "id": "q8B-GaUPxYMm",
        "colab_type": "code",
        "colab": {
          "autoexec": {
            "startup": false,
            "wait_interval": 0
          },
          "base_uri": "https://localhost:8080/",
          "height": 51
        },
        "outputId": "496d61cf-c6a7-4886-9d11-9dbf000d6f0b",
        "executionInfo": {
          "status": "ok",
          "timestamp": 1532326226872,
          "user_tz": -330,
          "elapsed": 564,
          "user": {
            "displayName": "Arth Dh",
            "photoUrl": "//lh5.googleusercontent.com/-k3dUymHUDVw/AAAAAAAAAAI/AAAAAAAANZs/XNCIjM0QmZU/s50-c-k-no/photo.jpg",
            "userId": "110320452319374550954"
          }
        }
      },
      "cell_type": "code",
      "source": [
        "test = sequences[0]\n",
        "s = \"\"\n",
        "for temp in test:\n",
        "  if not temp==0:\n",
        "    s = s+ index2char[temp]\n",
        "    \n",
        "cleaned_quotes[0],s"
      ],
      "execution_count": 48,
      "outputs": [
        {
          "output_type": "execute_result",
          "data": {
            "text/plain": [
              "(\"\\t Age is an issue of mind over matter. If you don't mind, it doesn't matter. \\n\",\n",
              " \"\\t Age is an issue of mind over matter. If you don't mind, it doesn't matter. \\n\")"
            ]
          },
          "metadata": {
            "tags": []
          },
          "execution_count": 48
        }
      ]
    },
    {
      "metadata": {
        "id": "osXKxcfNvT-i",
        "colab_type": "code",
        "colab": {
          "autoexec": {
            "startup": false,
            "wait_interval": 0
          },
          "base_uri": "https://localhost:8080/",
          "height": 34
        },
        "outputId": "3241c372-e59b-46a1-dd97-83e4a868ecd5",
        "executionInfo": {
          "status": "ok",
          "timestamp": 1532326410043,
          "user_tz": -330,
          "elapsed": 947,
          "user": {
            "displayName": "Arth Dh",
            "photoUrl": "//lh5.googleusercontent.com/-k3dUymHUDVw/AAAAAAAAAAI/AAAAAAAANZs/XNCIjM0QmZU/s50-c-k-no/photo.jpg",
            "userId": "110320452319374550954"
          }
        }
      },
      "cell_type": "code",
      "source": [
        "quotes_ds[0]"
      ],
      "execution_count": 54,
      "outputs": [
        {
          "output_type": "execute_result",
          "data": {
            "text/plain": [
              "\"Age is an issue of mind over matter. If you don't mind, it doesn't matter.\""
            ]
          },
          "metadata": {
            "tags": []
          },
          "execution_count": 54
        }
      ]
    },
    {
      "metadata": {
        "id": "NqxoU5ur0GMB",
        "colab_type": "code",
        "colab": {
          "autoexec": {
            "startup": false,
            "wait_interval": 0
          }
        }
      },
      "cell_type": "code",
      "source": [
        "def generate_split(data, lookback= 20, step = 5):\n",
        "  sentence = []\n",
        "  next_char = []\n",
        "  for d in data: \n",
        "    for i in range(lookback,len(d), step):\n",
        "      sentence.append(d[i-lookback:i])\n",
        "      next_char.append(d[i])\n",
        "  return sentence, next_char"
      ],
      "execution_count": 0,
      "outputs": []
    },
    {
      "metadata": {
        "id": "XqN7nemh1YTq",
        "colab_type": "code",
        "colab": {
          "autoexec": {
            "startup": false,
            "wait_interval": 0
          }
        }
      },
      "cell_type": "code",
      "source": [
        "sentence, next_char = generate_split(quotes_ds)"
      ],
      "execution_count": 0,
      "outputs": []
    },
    {
      "metadata": {
        "id": "Zf5Z_o4iucED",
        "colab_type": "code",
        "colab": {
          "autoexec": {
            "startup": false,
            "wait_interval": 0
          }
        }
      },
      "cell_type": "code",
      "source": [
        "max_len = 20\n",
        "n_samples = 120000\n",
        "\n",
        "x = np.zeros((n_samples, max_len, len(word_index)))\n",
        "y = np.zeros((n_samples, len(word_index)))\n",
        "\n",
        "for i,s in enumerate(sentence[:n_samples]):\n",
        "  for t, char in enumerate(s):\n",
        "      x[i, t, word_index[char]] = 1\n",
        "  y[i, word_index[next_char[i]]] = 1"
      ],
      "execution_count": 0,
      "outputs": []
    },
    {
      "metadata": {
        "id": "Njq9DpaD8_od",
        "colab_type": "code",
        "colab": {
          "autoexec": {
            "startup": false,
            "wait_interval": 0
          }
        }
      },
      "cell_type": "code",
      "source": [
        "from keras.models import Sequential\n",
        "from keras import Model\n",
        "from keras.layers import Input, Embedding, LSTM, Dense, Flatten,Dropout\n",
        "from keras.optimizers import RMSprop\n",
        "from keras.models import load_model"
      ],
      "execution_count": 0,
      "outputs": []
    },
    {
      "metadata": {
        "id": "tHzHKXV0qie1",
        "colab_type": "code",
        "colab": {
          "autoexec": {
            "startup": false,
            "wait_interval": 0
          }
        }
      },
      "cell_type": "code",
      "source": [
        "model = Sequential()\n",
        "model.add(LSTM(128, input_shape=(max_len, len(word_index))))\n",
        "model.add(Dense(len(word_index), activation='softmax'))"
      ],
      "execution_count": 0,
      "outputs": []
    },
    {
      "metadata": {
        "id": "RqXO4-Nq43QR",
        "colab_type": "code",
        "colab": {
          "autoexec": {
            "startup": false,
            "wait_interval": 0
          }
        }
      },
      "cell_type": "code",
      "source": [
        "optimizer = keras.optimizers.RMSprop(lr=0.01)\n",
        "model.compile(loss='categorical_crossentropy', optimizer=optimizer)"
      ],
      "execution_count": 0,
      "outputs": []
    },
    {
      "metadata": {
        "id": "ZiAmvr-zCoWr",
        "colab_type": "code",
        "colab": {
          "autoexec": {
            "startup": false,
            "wait_interval": 0
          }
        }
      },
      "cell_type": "code",
      "source": [
        "callbacks_list = [\n",
        "        keras.callbacks.ReduceLROnPlateau(\n",
        "            monitor='loss',\n",
        "            factor=0.1,\n",
        "            patience=10,\n",
        "        ),\n",
        "        keras.callbacks.ModelCheckpoint(\n",
        "            filepath=os.path.join(models_path,'quotegen.h5'),\n",
        "            monitor='loss',\n",
        "            save_best_only=True,\n",
        "        ),\n",
        "]"
      ],
      "execution_count": 0,
      "outputs": []
    },
    {
      "metadata": {
        "id": "wtfWEGgu4JoJ",
        "colab_type": "code",
        "colab": {
          "autoexec": {
            "startup": false,
            "wait_interval": 0
          },
          "base_uri": "https://localhost:8080/",
          "height": 5154
        },
        "outputId": "2a109d5e-1d83-49b2-8e26-36d9c55a2dbf",
        "executionInfo": {
          "status": "ok",
          "timestamp": 1532339591532,
          "user_tz": -330,
          "elapsed": 5145618,
          "user": {
            "displayName": "Arth Dh",
            "photoUrl": "//lh5.googleusercontent.com/-k3dUymHUDVw/AAAAAAAAAAI/AAAAAAAANZs/XNCIjM0QmZU/s50-c-k-no/photo.jpg",
            "userId": "110320452319374550954"
          }
        }
      },
      "cell_type": "code",
      "source": [
        "model = load_model(os.path.join(models_path,'quotegen.h5'))\n",
        "history = model.fit(x, y, batch_size=256, epochs=150,  validation_split=0.1, callbacks= callbacks_list)"
      ],
      "execution_count": 176,
      "outputs": [
        {
          "output_type": "stream",
          "text": [
            "Train on 108000 samples, validate on 12000 samples\n",
            "Epoch 1/150\n",
            "108000/108000 [==============================] - 30s 275us/step - loss: 0.9651 - val_loss: 1.8564\n",
            "Epoch 2/150\n",
            " 39424/108000 [=========>....................] - ETA: 17s - loss: 0.9324"
          ],
          "name": "stdout"
        },
        {
          "output_type": "stream",
          "text": [
            "108000/108000 [==============================] - 29s 267us/step - loss: 0.9635 - val_loss: 1.8549\n",
            "Epoch 3/150\n",
            "104960/108000 [============================>.] - ETA: 0s - loss: 0.9639\b\b\b\b\b\b\b\b\b\b\b\b\b\b\b\b\b\b\b\b\b\b\b\b\b\b\b\b\b\b\b\b\b\b\b\b\b\b\b\b\b\b\b\b\b\b\b\b\b\b\b\b\b\b\b\b\b\b\b\b\b\b\b\b\b\b\b\b\b\b\b"
          ],
          "name": "stdout"
        },
        {
          "output_type": "stream",
          "text": [
            "108000/108000 [==============================] - 29s 266us/step - loss: 0.9648 - val_loss: 1.8795\n",
            "Epoch 4/150\n",
            "108000/108000 [==============================] - 28s 263us/step - loss: 0.9603 - val_loss: 1.8810\n",
            "Epoch 5/150\n",
            " 15360/108000 [===>..........................] - ETA: 23s - loss: 0.9170"
          ],
          "name": "stdout"
        },
        {
          "output_type": "stream",
          "text": [
            "108000/108000 [==============================] - 28s 263us/step - loss: 0.9593 - val_loss: 1.8867\n",
            "Epoch 6/150\n",
            " 96256/108000 [=========================>....] - ETA: 2s - loss: 0.9507"
          ],
          "name": "stdout"
        },
        {
          "output_type": "stream",
          "text": [
            "108000/108000 [==============================] - 28s 263us/step - loss: 0.9554 - val_loss: 1.9030\n",
            "Epoch 7/150\n",
            "108000/108000 [==============================] - 29s 268us/step - loss: 0.9550 - val_loss: 1.9051\n",
            "Epoch 8/150\n",
            " 12800/108000 [==>...........................] - ETA: 25s - loss: 0.9167"
          ],
          "name": "stdout"
        },
        {
          "output_type": "stream",
          "text": [
            "108000/108000 [==============================] - 29s 268us/step - loss: 0.9545 - val_loss: 1.8929\n",
            "Epoch 9/150\n",
            " 99584/108000 [==========================>...] - ETA: 2s - loss: 0.9495"
          ],
          "name": "stdout"
        },
        {
          "output_type": "stream",
          "text": [
            "108000/108000 [==============================] - 30s 277us/step - loss: 0.9523 - val_loss: 1.9277\n",
            "Epoch 10/150\n",
            "108000/108000 [==============================] - 31s 284us/step - loss: 0.9516 - val_loss: 1.8937\n",
            "Epoch 11/150\n",
            " 16896/108000 [===>..........................] - ETA: 28s - loss: 0.9035"
          ],
          "name": "stdout"
        },
        {
          "output_type": "stream",
          "text": [
            "108000/108000 [==============================] - 35s 320us/step - loss: 0.9483 - val_loss: 1.9451\n",
            "Epoch 12/150\n",
            "104192/108000 [===========================>..] - ETA: 1s - loss: 0.9476"
          ],
          "name": "stdout"
        },
        {
          "output_type": "stream",
          "text": [
            "108000/108000 [==============================] - 35s 327us/step - loss: 0.9493 - val_loss: 1.9467\n",
            "Epoch 13/150\n",
            "108000/108000 [==============================] - 35s 327us/step - loss: 0.9471 - val_loss: 1.9536\n",
            "Epoch 14/150\n",
            " 18688/108000 [====>.........................] - ETA: 27s - loss: 0.9117"
          ],
          "name": "stdout"
        },
        {
          "output_type": "stream",
          "text": [
            "108000/108000 [==============================] - 34s 318us/step - loss: 0.9464 - val_loss: 1.9390\n",
            "Epoch 15/150\n",
            "104704/108000 [============================>.] - ETA: 0s - loss: 0.9403"
          ],
          "name": "stdout"
        },
        {
          "output_type": "stream",
          "text": [
            "108000/108000 [==============================] - 34s 312us/step - loss: 0.9415 - val_loss: 1.9142\n",
            "Epoch 16/150\n",
            "108000/108000 [==============================] - 34s 314us/step - loss: 0.9395 - val_loss: 1.9093\n",
            "Epoch 17/150\n",
            " 18688/108000 [====>.........................] - ETA: 27s - loss: 0.8791"
          ],
          "name": "stdout"
        },
        {
          "output_type": "stream",
          "text": [
            "108000/108000 [==============================] - 34s 315us/step - loss: 0.9395 - val_loss: 1.9181\n",
            "Epoch 18/150\n",
            "104704/108000 [============================>.] - ETA: 0s - loss: 0.9363"
          ],
          "name": "stdout"
        },
        {
          "output_type": "stream",
          "text": [
            "108000/108000 [==============================] - 34s 312us/step - loss: 0.9384 - val_loss: 1.9382\n",
            "Epoch 19/150\n",
            "108000/108000 [==============================] - 34s 316us/step - loss: 0.9366 - val_loss: 1.9351\n",
            "Epoch 20/150\n",
            " 18944/108000 [====>.........................] - ETA: 27s - loss: 0.8840"
          ],
          "name": "stdout"
        },
        {
          "output_type": "stream",
          "text": [
            "108000/108000 [==============================] - 34s 311us/step - loss: 0.9369 - val_loss: 1.9287\n",
            "Epoch 21/150\n",
            "104960/108000 [============================>.] - ETA: 0s - loss: 0.9350"
          ],
          "name": "stdout"
        },
        {
          "output_type": "stream",
          "text": [
            "108000/108000 [==============================] - 34s 314us/step - loss: 0.9364 - val_loss: 1.9346\n",
            "Epoch 22/150\n",
            "108000/108000 [==============================] - 35s 321us/step - loss: 0.9328 - val_loss: 1.9368\n",
            "Epoch 23/150\n",
            " 18944/108000 [====>.........................] - ETA: 28s - loss: 0.8825"
          ],
          "name": "stdout"
        },
        {
          "output_type": "stream",
          "text": [
            "108000/108000 [==============================] - 35s 323us/step - loss: 0.9311 - val_loss: 1.9448\n",
            "Epoch 24/150\n",
            "104960/108000 [============================>.] - ETA: 0s - loss: 0.9317"
          ],
          "name": "stdout"
        },
        {
          "output_type": "stream",
          "text": [
            "108000/108000 [==============================] - 35s 325us/step - loss: 0.9322 - val_loss: 1.9791\n",
            "Epoch 25/150\n",
            "108000/108000 [==============================] - 35s 320us/step - loss: 0.9287 - val_loss: 1.9658\n",
            "Epoch 26/150\n",
            " 18944/108000 [====>.........................] - ETA: 27s - loss: 0.8835"
          ],
          "name": "stdout"
        },
        {
          "output_type": "stream",
          "text": [
            "108000/108000 [==============================] - 35s 320us/step - loss: 0.9304 - val_loss: 1.9307\n",
            "Epoch 27/150\n",
            "104960/108000 [============================>.] - ETA: 0s - loss: 0.9262"
          ],
          "name": "stdout"
        },
        {
          "output_type": "stream",
          "text": [
            "108000/108000 [==============================] - 35s 324us/step - loss: 0.9288 - val_loss: 1.9413\n",
            "Epoch 28/150\n",
            "108000/108000 [==============================] - 35s 324us/step - loss: 0.9247 - val_loss: 1.9281\n",
            "Epoch 29/150\n",
            " 18944/108000 [====>.........................] - ETA: 27s - loss: 0.8786"
          ],
          "name": "stdout"
        },
        {
          "output_type": "stream",
          "text": [
            "108000/108000 [==============================] - 34s 319us/step - loss: 0.9248 - val_loss: 1.9753\n",
            "Epoch 30/150\n",
            "104960/108000 [============================>.] - ETA: 0s - loss: 0.9230"
          ],
          "name": "stdout"
        },
        {
          "output_type": "stream",
          "text": [
            "108000/108000 [==============================] - 35s 320us/step - loss: 0.9240 - val_loss: 1.9685\n",
            "Epoch 31/150\n",
            "108000/108000 [==============================] - 35s 323us/step - loss: 0.9228 - val_loss: 1.9312\n",
            "Epoch 32/150\n",
            " 18944/108000 [====>.........................] - ETA: 27s - loss: 0.8894"
          ],
          "name": "stdout"
        },
        {
          "output_type": "stream",
          "text": [
            "108000/108000 [==============================] - 35s 320us/step - loss: 0.9235 - val_loss: 1.9460\n",
            "Epoch 33/150\n",
            "104960/108000 [============================>.] - ETA: 0s - loss: 0.9171"
          ],
          "name": "stdout"
        },
        {
          "output_type": "stream",
          "text": [
            "108000/108000 [==============================] - 34s 315us/step - loss: 0.9185 - val_loss: 1.9682\n",
            "Epoch 34/150\n",
            "108000/108000 [==============================] - 34s 316us/step - loss: 0.9217 - val_loss: 1.9472\n",
            "Epoch 35/150\n",
            " 18944/108000 [====>.........................] - ETA: 28s - loss: 0.8623"
          ],
          "name": "stdout"
        },
        {
          "output_type": "stream",
          "text": [
            "108000/108000 [==============================] - 35s 324us/step - loss: 0.9140 - val_loss: 1.9728\n",
            "Epoch 36/150\n",
            "104448/108000 [============================>.] - ETA: 1s - loss: 0.9143"
          ],
          "name": "stdout"
        },
        {
          "output_type": "stream",
          "text": [
            "108000/108000 [==============================] - 34s 315us/step - loss: 0.9156 - val_loss: 1.9658\n",
            "Epoch 37/150\n",
            "108000/108000 [==============================] - 34s 311us/step - loss: 0.9154 - val_loss: 1.9774\n",
            "Epoch 38/150\n",
            " 18944/108000 [====>.........................] - ETA: 27s - loss: 0.8562"
          ],
          "name": "stdout"
        },
        {
          "output_type": "stream",
          "text": [
            "108000/108000 [==============================] - 34s 311us/step - loss: 0.9138 - val_loss: 1.9639\n",
            "Epoch 39/150\n",
            "104960/108000 [============================>.] - ETA: 0s - loss: 0.9128"
          ],
          "name": "stdout"
        },
        {
          "output_type": "stream",
          "text": [
            "108000/108000 [==============================] - 34s 317us/step - loss: 0.9136 - val_loss: 1.9745\n",
            "Epoch 40/150\n",
            "108000/108000 [==============================] - 33s 307us/step - loss: 0.9122 - val_loss: 1.9704\n",
            "Epoch 41/150\n",
            " 18944/108000 [====>.........................] - ETA: 27s - loss: 0.8591"
          ],
          "name": "stdout"
        },
        {
          "output_type": "stream",
          "text": [
            "108000/108000 [==============================] - 33s 306us/step - loss: 0.9150 - val_loss: 2.0061\n",
            "Epoch 42/150\n",
            "104960/108000 [============================>.] - ETA: 0s - loss: 0.9066"
          ],
          "name": "stdout"
        },
        {
          "output_type": "stream",
          "text": [
            "108000/108000 [==============================] - 34s 313us/step - loss: 0.9079 - val_loss: 1.9620\n",
            "Epoch 43/150\n",
            "108000/108000 [==============================] - 35s 325us/step - loss: 0.9088 - val_loss: 1.9951\n",
            "Epoch 44/150\n",
            " 18944/108000 [====>.........................] - ETA: 28s - loss: 0.8677"
          ],
          "name": "stdout"
        },
        {
          "output_type": "stream",
          "text": [
            "108000/108000 [==============================] - 34s 318us/step - loss: 0.9102 - val_loss: 1.9716\n",
            "Epoch 45/150\n",
            "104960/108000 [============================>.] - ETA: 0s - loss: 0.9074"
          ],
          "name": "stdout"
        },
        {
          "output_type": "stream",
          "text": [
            "108000/108000 [==============================] - 35s 323us/step - loss: 0.9082 - val_loss: 2.0129\n",
            "Epoch 46/150\n",
            "108000/108000 [==============================] - 35s 322us/step - loss: 0.9090 - val_loss: 1.9821\n",
            "Epoch 47/150\n",
            " 18944/108000 [====>.........................] - ETA: 27s - loss: 0.8560"
          ],
          "name": "stdout"
        },
        {
          "output_type": "stream",
          "text": [
            "108000/108000 [==============================] - 34s 315us/step - loss: 0.9068 - val_loss: 1.9775\n",
            "Epoch 48/150\n",
            "104960/108000 [============================>.] - ETA: 0s - loss: 0.9064"
          ],
          "name": "stdout"
        },
        {
          "output_type": "stream",
          "text": [
            "108000/108000 [==============================] - 33s 309us/step - loss: 0.9075 - val_loss: 1.9834\n",
            "Epoch 49/150\n",
            "108000/108000 [==============================] - 34s 311us/step - loss: 0.9062 - val_loss: 1.9723\n",
            "Epoch 50/150\n",
            " 18944/108000 [====>.........................] - ETA: 27s - loss: 0.8505"
          ],
          "name": "stdout"
        },
        {
          "output_type": "stream",
          "text": [
            "108000/108000 [==============================] - 34s 314us/step - loss: 0.9018 - val_loss: 2.0305\n",
            "Epoch 51/150\n",
            "104960/108000 [============================>.] - ETA: 0s - loss: 0.9008"
          ],
          "name": "stdout"
        },
        {
          "output_type": "stream",
          "text": [
            "108000/108000 [==============================] - 34s 316us/step - loss: 0.9004 - val_loss: 2.0189\n",
            "Epoch 52/150\n",
            "108000/108000 [==============================] - 34s 313us/step - loss: 0.9019 - val_loss: 1.9905\n",
            "Epoch 53/150\n",
            " 18944/108000 [====>.........................] - ETA: 27s - loss: 0.8465"
          ],
          "name": "stdout"
        },
        {
          "output_type": "stream",
          "text": [
            "108000/108000 [==============================] - 34s 315us/step - loss: 0.8992 - val_loss: 2.0109\n",
            "Epoch 54/150\n",
            "104960/108000 [============================>.] - ETA: 0s - loss: 0.8988"
          ],
          "name": "stdout"
        },
        {
          "output_type": "stream",
          "text": [
            "108000/108000 [==============================] - 34s 312us/step - loss: 0.8993 - val_loss: 1.9980\n",
            "Epoch 55/150\n",
            "108000/108000 [==============================] - 33s 305us/step - loss: 0.8931 - val_loss: 2.0024\n",
            "Epoch 56/150\n",
            " 18944/108000 [====>.........................] - ETA: 27s - loss: 0.8521"
          ],
          "name": "stdout"
        },
        {
          "output_type": "stream",
          "text": [
            "108000/108000 [==============================] - 34s 312us/step - loss: 0.8957 - val_loss: 1.9961\n",
            "Epoch 57/150\n",
            "104960/108000 [============================>.] - ETA: 0s - loss: 0.8985"
          ],
          "name": "stdout"
        },
        {
          "output_type": "stream",
          "text": [
            "108000/108000 [==============================] - 33s 307us/step - loss: 0.8979 - val_loss: 2.0180\n",
            "Epoch 58/150\n",
            "108000/108000 [==============================] - 33s 305us/step - loss: 0.8948 - val_loss: 1.9990\n",
            "Epoch 59/150\n",
            " 18944/108000 [====>.........................] - ETA: 26s - loss: 0.8478"
          ],
          "name": "stdout"
        },
        {
          "output_type": "stream",
          "text": [
            "108000/108000 [==============================] - 33s 304us/step - loss: 0.8946 - val_loss: 2.0083\n",
            "Epoch 60/150\n",
            "104960/108000 [============================>.] - ETA: 0s - loss: 0.8899"
          ],
          "name": "stdout"
        },
        {
          "output_type": "stream",
          "text": [
            "108000/108000 [==============================] - 33s 309us/step - loss: 0.8908 - val_loss: 1.9692\n",
            "Epoch 61/150\n",
            "108000/108000 [==============================] - 33s 308us/step - loss: 0.8934 - val_loss: 2.0053\n",
            "Epoch 62/150\n",
            " 18944/108000 [====>.........................] - ETA: 26s - loss: 0.8610"
          ],
          "name": "stdout"
        },
        {
          "output_type": "stream",
          "text": [
            "108000/108000 [==============================] - 33s 309us/step - loss: 0.8928 - val_loss: 1.9944\n",
            "Epoch 63/150\n",
            "104960/108000 [============================>.] - ETA: 0s - loss: 0.8917"
          ],
          "name": "stdout"
        },
        {
          "output_type": "stream",
          "text": [
            "108000/108000 [==============================] - 34s 310us/step - loss: 0.8925 - val_loss: 2.0346\n",
            "Epoch 64/150\n",
            "108000/108000 [==============================] - 33s 308us/step - loss: 0.8879 - val_loss: 2.0286\n",
            "Epoch 65/150\n",
            " 18944/108000 [====>.........................] - ETA: 27s - loss: 0.8409"
          ],
          "name": "stdout"
        },
        {
          "output_type": "stream",
          "text": [
            "108000/108000 [==============================] - 34s 311us/step - loss: 0.8888 - val_loss: 2.0225\n",
            "Epoch 66/150\n",
            "104960/108000 [============================>.] - ETA: 0s - loss: 0.8879"
          ],
          "name": "stdout"
        },
        {
          "output_type": "stream",
          "text": [
            "108000/108000 [==============================] - 34s 316us/step - loss: 0.8890 - val_loss: 2.0378\n",
            "Epoch 67/150\n",
            "108000/108000 [==============================] - 34s 315us/step - loss: 0.8894 - val_loss: 2.0130\n",
            "Epoch 68/150\n",
            " 18944/108000 [====>.........................] - ETA: 26s - loss: 0.8374"
          ],
          "name": "stdout"
        },
        {
          "output_type": "stream",
          "text": [
            "108000/108000 [==============================] - 34s 311us/step - loss: 0.8856 - val_loss: 2.0107\n",
            "Epoch 69/150\n",
            "105984/108000 [============================>.] - ETA: 0s - loss: 0.8857"
          ],
          "name": "stdout"
        },
        {
          "output_type": "stream",
          "text": [
            "108000/108000 [==============================] - 34s 317us/step - loss: 0.8867 - val_loss: 2.0443\n",
            "Epoch 70/150\n",
            "108000/108000 [==============================] - 35s 321us/step - loss: 0.8850 - val_loss: 2.0404\n",
            "Epoch 71/150\n",
            " 19200/108000 [====>.........................] - ETA: 26s - loss: 0.8388"
          ],
          "name": "stdout"
        },
        {
          "output_type": "stream",
          "text": [
            "108000/108000 [==============================] - 34s 314us/step - loss: 0.8853 - val_loss: 2.0366\n",
            "Epoch 72/150\n",
            "104960/108000 [============================>.] - ETA: 0s - loss: 0.8811"
          ],
          "name": "stdout"
        },
        {
          "output_type": "stream",
          "text": [
            "108000/108000 [==============================] - 34s 318us/step - loss: 0.8816 - val_loss: 2.0738\n",
            "Epoch 73/150\n",
            "108000/108000 [==============================] - 35s 320us/step - loss: 0.8845 - val_loss: 2.0193\n",
            "Epoch 74/150\n",
            " 18944/108000 [====>.........................] - ETA: 27s - loss: 0.8239"
          ],
          "name": "stdout"
        },
        {
          "output_type": "stream",
          "text": [
            "108000/108000 [==============================] - 34s 317us/step - loss: 0.8856 - val_loss: 2.0140\n",
            "Epoch 75/150\n",
            "104960/108000 [============================>.] - ETA: 0s - loss: 0.8804"
          ],
          "name": "stdout"
        },
        {
          "output_type": "stream",
          "text": [
            "108000/108000 [==============================] - 34s 314us/step - loss: 0.8823 - val_loss: 2.0164\n",
            "Epoch 76/150\n",
            "108000/108000 [==============================] - 33s 309us/step - loss: 0.8825 - val_loss: 2.0146\n",
            "Epoch 77/150\n",
            " 18944/108000 [====>.........................] - ETA: 26s - loss: 0.8341"
          ],
          "name": "stdout"
        },
        {
          "output_type": "stream",
          "text": [
            "108000/108000 [==============================] - 33s 305us/step - loss: 0.8825 - val_loss: 2.0053\n",
            "Epoch 78/150\n",
            "104960/108000 [============================>.] - ETA: 0s - loss: 0.8802"
          ],
          "name": "stdout"
        },
        {
          "output_type": "stream",
          "text": [
            "108000/108000 [==============================] - 33s 307us/step - loss: 0.8820 - val_loss: 2.0550\n",
            "Epoch 79/150\n",
            "108000/108000 [==============================] - 33s 302us/step - loss: 0.8813 - val_loss: 2.0343\n",
            "Epoch 80/150\n",
            " 18944/108000 [====>.........................] - ETA: 26s - loss: 0.8239"
          ],
          "name": "stdout"
        },
        {
          "output_type": "stream",
          "text": [
            "108000/108000 [==============================] - 33s 310us/step - loss: 0.8784 - val_loss: 2.0342\n",
            "Epoch 81/150\n",
            "104960/108000 [============================>.] - ETA: 0s - loss: 0.8756"
          ],
          "name": "stdout"
        },
        {
          "output_type": "stream",
          "text": [
            "108000/108000 [==============================] - 33s 306us/step - loss: 0.8764 - val_loss: 2.0074\n",
            "Epoch 82/150\n",
            "108000/108000 [==============================] - 33s 308us/step - loss: 0.8799 - val_loss: 2.0081\n",
            "Epoch 83/150\n",
            " 18944/108000 [====>.........................] - ETA: 26s - loss: 0.8280"
          ],
          "name": "stdout"
        },
        {
          "output_type": "stream",
          "text": [
            "108000/108000 [==============================] - 33s 303us/step - loss: 0.8736 - val_loss: 2.0259\n",
            "Epoch 84/150\n",
            "104960/108000 [============================>.] - ETA: 0s - loss: 0.8726"
          ],
          "name": "stdout"
        },
        {
          "output_type": "stream",
          "text": [
            "108000/108000 [==============================] - 33s 303us/step - loss: 0.8734 - val_loss: 2.0511\n",
            "Epoch 85/150\n",
            "108000/108000 [==============================] - 33s 310us/step - loss: 0.8757 - val_loss: 2.0649\n",
            "Epoch 86/150\n",
            " 18944/108000 [====>.........................] - ETA: 26s - loss: 0.8228"
          ],
          "name": "stdout"
        },
        {
          "output_type": "stream",
          "text": [
            "108000/108000 [==============================] - 33s 305us/step - loss: 0.8731 - val_loss: 2.0310\n",
            "Epoch 87/150\n",
            "104960/108000 [============================>.] - ETA: 0s - loss: 0.8729"
          ],
          "name": "stdout"
        },
        {
          "output_type": "stream",
          "text": [
            "108000/108000 [==============================] - 34s 312us/step - loss: 0.8737 - val_loss: 2.0867\n",
            "Epoch 88/150\n",
            "108000/108000 [==============================] - 33s 306us/step - loss: 0.8722 - val_loss: 2.0347\n",
            "Epoch 89/150\n",
            " 18944/108000 [====>.........................] - ETA: 27s - loss: 0.8119"
          ],
          "name": "stdout"
        },
        {
          "output_type": "stream",
          "text": [
            "108000/108000 [==============================] - 33s 309us/step - loss: 0.8691 - val_loss: 2.0629\n",
            "Epoch 90/150\n",
            "104960/108000 [============================>.] - ETA: 0s - loss: 0.8701"
          ],
          "name": "stdout"
        },
        {
          "output_type": "stream",
          "text": [
            "108000/108000 [==============================] - 33s 309us/step - loss: 0.8716 - val_loss: 2.0964\n",
            "Epoch 91/150\n",
            "108000/108000 [==============================] - 34s 313us/step - loss: 0.8711 - val_loss: 2.0276\n",
            "Epoch 92/150\n",
            " 18944/108000 [====>.........................] - ETA: 26s - loss: 0.8209"
          ],
          "name": "stdout"
        },
        {
          "output_type": "stream",
          "text": [
            "108000/108000 [==============================] - 33s 306us/step - loss: 0.8701 - val_loss: 2.0191\n",
            "Epoch 93/150\n",
            "104960/108000 [============================>.] - ETA: 0s - loss: 0.8659"
          ],
          "name": "stdout"
        },
        {
          "output_type": "stream",
          "text": [
            "108000/108000 [==============================] - 33s 307us/step - loss: 0.8675 - val_loss: 2.0858\n",
            "Epoch 94/150\n",
            "108000/108000 [==============================] - 33s 309us/step - loss: 0.8692 - val_loss: 2.0568\n",
            "Epoch 95/150\n",
            " 18944/108000 [====>.........................] - ETA: 27s - loss: 0.8108"
          ],
          "name": "stdout"
        },
        {
          "output_type": "stream",
          "text": [
            "108000/108000 [==============================] - 34s 316us/step - loss: 0.8665 - val_loss: 2.0657\n",
            "Epoch 96/150\n",
            "104960/108000 [============================>.] - ETA: 0s - loss: 0.8647"
          ],
          "name": "stdout"
        },
        {
          "output_type": "stream",
          "text": [
            "108000/108000 [==============================] - 35s 324us/step - loss: 0.8657 - val_loss: 2.0303\n",
            "Epoch 97/150\n",
            "108000/108000 [==============================] - 35s 322us/step - loss: 0.8654 - val_loss: 2.0441\n",
            "Epoch 98/150\n",
            " 18944/108000 [====>.........................] - ETA: 26s - loss: 0.8270"
          ],
          "name": "stdout"
        },
        {
          "output_type": "stream",
          "text": [
            "108000/108000 [==============================] - 35s 322us/step - loss: 0.8656 - val_loss: 2.0893\n",
            "Epoch 99/150\n",
            "104960/108000 [============================>.] - ETA: 0s - loss: 0.8628"
          ],
          "name": "stdout"
        },
        {
          "output_type": "stream",
          "text": [
            "108000/108000 [==============================] - 36s 333us/step - loss: 0.8644 - val_loss: 2.0690\n",
            "Epoch 100/150\n",
            "108000/108000 [==============================] - 35s 326us/step - loss: 0.8656 - val_loss: 2.0742\n",
            "Epoch 101/150\n",
            " 18432/108000 [====>.........................] - ETA: 27s - loss: 0.8155"
          ],
          "name": "stdout"
        },
        {
          "output_type": "stream",
          "text": [
            "108000/108000 [==============================] - 34s 319us/step - loss: 0.8595 - val_loss: 2.0572\n",
            "Epoch 102/150\n",
            "104192/108000 [===========================>..] - ETA: 1s - loss: 0.8631"
          ],
          "name": "stdout"
        },
        {
          "output_type": "stream",
          "text": [
            "108000/108000 [==============================] - 34s 316us/step - loss: 0.8641 - val_loss: 2.0738\n",
            "Epoch 103/150\n",
            "108000/108000 [==============================] - 35s 321us/step - loss: 0.8627 - val_loss: 2.0591\n",
            "Epoch 104/150\n",
            " 18176/108000 [====>.........................] - ETA: 27s - loss: 0.8031"
          ],
          "name": "stdout"
        },
        {
          "output_type": "stream",
          "text": [
            "108000/108000 [==============================] - 34s 317us/step - loss: 0.8577 - val_loss: 2.0846\n",
            "Epoch 105/150\n",
            "103936/108000 [===========================>..] - ETA: 1s - loss: 0.8575"
          ],
          "name": "stdout"
        },
        {
          "output_type": "stream",
          "text": [
            "108000/108000 [==============================] - 35s 323us/step - loss: 0.8589 - val_loss: 2.0776\n",
            "Epoch 106/150\n",
            "108000/108000 [==============================] - 34s 315us/step - loss: 0.8591 - val_loss: 2.1036\n",
            "Epoch 107/150\n",
            " 18176/108000 [====>.........................] - ETA: 26s - loss: 0.8066"
          ],
          "name": "stdout"
        },
        {
          "output_type": "stream",
          "text": [
            "108000/108000 [==============================] - 33s 307us/step - loss: 0.8599 - val_loss: 2.0610\n",
            "Epoch 108/150\n",
            "103936/108000 [===========================>..] - ETA: 1s - loss: 0.8582"
          ],
          "name": "stdout"
        },
        {
          "output_type": "stream",
          "text": [
            "108000/108000 [==============================] - 33s 306us/step - loss: 0.8591 - val_loss: 2.0853\n",
            "Epoch 109/150\n",
            "108000/108000 [==============================] - 34s 318us/step - loss: 0.8597 - val_loss: 2.0774\n",
            "Epoch 110/150\n",
            " 18176/108000 [====>.........................] - ETA: 28s - loss: 0.8023"
          ],
          "name": "stdout"
        },
        {
          "output_type": "stream",
          "text": [
            "108000/108000 [==============================] - 35s 324us/step - loss: 0.8574 - val_loss: 2.0845\n",
            "Epoch 111/150\n",
            "103936/108000 [===========================>..] - ETA: 1s - loss: 0.8549"
          ],
          "name": "stdout"
        },
        {
          "output_type": "stream",
          "text": [
            "108000/108000 [==============================] - 35s 325us/step - loss: 0.8564 - val_loss: 2.0729\n",
            "Epoch 112/150\n",
            "108000/108000 [==============================] - 35s 321us/step - loss: 0.8573 - val_loss: 2.0754\n",
            "Epoch 113/150\n",
            " 18176/108000 [====>.........................] - ETA: 28s - loss: 0.8277"
          ],
          "name": "stdout"
        },
        {
          "output_type": "stream",
          "text": [
            "108000/108000 [==============================] - 35s 322us/step - loss: 0.8558 - val_loss: 2.0451\n",
            "Epoch 114/150\n",
            "103936/108000 [===========================>..] - ETA: 1s - loss: 0.8531"
          ],
          "name": "stdout"
        },
        {
          "output_type": "stream",
          "text": [
            "108000/108000 [==============================] - 34s 318us/step - loss: 0.8539 - val_loss: 2.0398\n",
            "Epoch 115/150\n",
            "108000/108000 [==============================] - 34s 318us/step - loss: 0.8541 - val_loss: 2.0756\n",
            "Epoch 116/150\n",
            " 18176/108000 [====>.........................] - ETA: 27s - loss: 0.8035"
          ],
          "name": "stdout"
        },
        {
          "output_type": "stream",
          "text": [
            "108000/108000 [==============================] - 34s 314us/step - loss: 0.8559 - val_loss: 2.0857\n",
            "Epoch 117/150\n",
            "103936/108000 [===========================>..] - ETA: 1s - loss: 0.8539"
          ],
          "name": "stdout"
        },
        {
          "output_type": "stream",
          "text": [
            "108000/108000 [==============================] - 34s 319us/step - loss: 0.8555 - val_loss: 2.1120\n",
            "Epoch 118/150\n",
            "108000/108000 [==============================] - 35s 322us/step - loss: 0.8562 - val_loss: 2.0893\n",
            "Epoch 119/150\n",
            " 18176/108000 [====>.........................] - ETA: 27s - loss: 0.7987"
          ],
          "name": "stdout"
        },
        {
          "output_type": "stream",
          "text": [
            "108000/108000 [==============================] - 34s 313us/step - loss: 0.8560 - val_loss: 2.1441\n",
            "Epoch 120/150\n",
            "103936/108000 [===========================>..] - ETA: 1s - loss: 0.8526"
          ],
          "name": "stdout"
        },
        {
          "output_type": "stream",
          "text": [
            "108000/108000 [==============================] - 34s 313us/step - loss: 0.8534 - val_loss: 2.0627\n",
            "Epoch 121/150\n",
            "108000/108000 [==============================] - 34s 314us/step - loss: 0.8512 - val_loss: 2.1311\n",
            "Epoch 122/150\n",
            " 18176/108000 [====>.........................] - ETA: 27s - loss: 0.8084"
          ],
          "name": "stdout"
        },
        {
          "output_type": "stream",
          "text": [
            "108000/108000 [==============================] - 33s 310us/step - loss: 0.8550 - val_loss: 2.0753\n",
            "Epoch 123/150\n",
            "103936/108000 [===========================>..] - ETA: 1s - loss: 0.8507"
          ],
          "name": "stdout"
        },
        {
          "output_type": "stream",
          "text": [
            "108000/108000 [==============================] - 33s 309us/step - loss: 0.8512 - val_loss: 2.1100\n",
            "Epoch 124/150\n",
            "108000/108000 [==============================] - 34s 316us/step - loss: 0.8547 - val_loss: 2.0579\n",
            "Epoch 125/150\n",
            " 18176/108000 [====>.........................] - ETA: 27s - loss: 0.7895"
          ],
          "name": "stdout"
        },
        {
          "output_type": "stream",
          "text": [
            "108000/108000 [==============================] - 34s 319us/step - loss: 0.8496 - val_loss: 2.0842\n",
            "Epoch 126/150\n",
            "103936/108000 [===========================>..] - ETA: 1s - loss: 0.8484"
          ],
          "name": "stdout"
        },
        {
          "output_type": "stream",
          "text": [
            "108000/108000 [==============================] - 34s 317us/step - loss: 0.8501 - val_loss: 2.0929\n",
            "Epoch 127/150\n",
            "108000/108000 [==============================] - 34s 313us/step - loss: 0.8491 - val_loss: 2.1007\n",
            "Epoch 128/150\n",
            " 18176/108000 [====>.........................] - ETA: 27s - loss: 0.8065"
          ],
          "name": "stdout"
        },
        {
          "output_type": "stream",
          "text": [
            "108000/108000 [==============================] - 35s 322us/step - loss: 0.8517 - val_loss: 2.1041\n",
            "Epoch 129/150\n",
            "103936/108000 [===========================>..] - ETA: 1s - loss: 0.8494"
          ],
          "name": "stdout"
        },
        {
          "output_type": "stream",
          "text": [
            "108000/108000 [==============================] - 35s 322us/step - loss: 0.8491 - val_loss: 2.0932\n",
            "Epoch 130/150\n",
            "108000/108000 [==============================] - 35s 320us/step - loss: 0.8465 - val_loss: 2.1082\n",
            "Epoch 131/150\n",
            " 18176/108000 [====>.........................] - ETA: 28s - loss: 0.7861"
          ],
          "name": "stdout"
        },
        {
          "output_type": "stream",
          "text": [
            "108000/108000 [==============================] - 34s 318us/step - loss: 0.8481 - val_loss: 2.1095\n",
            "Epoch 132/150\n",
            "103936/108000 [===========================>..] - ETA: 1s - loss: 0.8461"
          ],
          "name": "stdout"
        },
        {
          "output_type": "stream",
          "text": [
            "108000/108000 [==============================] - 35s 320us/step - loss: 0.8468 - val_loss: 2.1107\n",
            "Epoch 133/150\n",
            "108000/108000 [==============================] - 34s 315us/step - loss: 0.8466 - val_loss: 2.0995\n",
            "Epoch 134/150\n",
            " 18176/108000 [====>.........................] - ETA: 27s - loss: 0.8030"
          ],
          "name": "stdout"
        },
        {
          "output_type": "stream",
          "text": [
            "108000/108000 [==============================] - 34s 315us/step - loss: 0.8471 - val_loss: 2.1087\n",
            "Epoch 135/150\n",
            "103936/108000 [===========================>..] - ETA: 1s - loss: 0.8477"
          ],
          "name": "stdout"
        },
        {
          "output_type": "stream",
          "text": [
            "108000/108000 [==============================] - 34s 315us/step - loss: 0.8487 - val_loss: 2.1434\n",
            "Epoch 136/150\n",
            "108000/108000 [==============================] - 34s 317us/step - loss: 0.8463 - val_loss: 2.1062\n",
            "Epoch 137/150\n",
            " 18176/108000 [====>.........................] - ETA: 27s - loss: 0.8032"
          ],
          "name": "stdout"
        },
        {
          "output_type": "stream",
          "text": [
            "108000/108000 [==============================] - 35s 323us/step - loss: 0.8475 - val_loss: 2.1492\n",
            "Epoch 138/150\n",
            "103936/108000 [===========================>..] - ETA: 1s - loss: 0.8456"
          ],
          "name": "stdout"
        },
        {
          "output_type": "stream",
          "text": [
            "108000/108000 [==============================] - 34s 318us/step - loss: 0.8459 - val_loss: 2.1079\n",
            "Epoch 139/150\n",
            "108000/108000 [==============================] - 34s 317us/step - loss: 0.8460 - val_loss: 2.1259\n",
            "Epoch 140/150\n",
            " 18176/108000 [====>.........................] - ETA: 27s - loss: 0.7850"
          ],
          "name": "stdout"
        },
        {
          "output_type": "stream",
          "text": [
            "108000/108000 [==============================] - 35s 324us/step - loss: 0.8442 - val_loss: 2.1053\n",
            "Epoch 141/150\n",
            "103936/108000 [===========================>..] - ETA: 1s - loss: 0.8416"
          ],
          "name": "stdout"
        },
        {
          "output_type": "stream",
          "text": [
            "108000/108000 [==============================] - 34s 314us/step - loss: 0.8429 - val_loss: 2.1763\n",
            "Epoch 142/150\n",
            "108000/108000 [==============================] - 34s 315us/step - loss: 0.8460 - val_loss: 2.1592\n",
            "Epoch 143/150\n",
            " 18176/108000 [====>.........................] - ETA: 27s - loss: 0.7905"
          ],
          "name": "stdout"
        },
        {
          "output_type": "stream",
          "text": [
            "108000/108000 [==============================] - 34s 317us/step - loss: 0.8430 - val_loss: 2.1714\n",
            "Epoch 144/150\n",
            "103936/108000 [===========================>..] - ETA: 1s - loss: 0.8369"
          ],
          "name": "stdout"
        },
        {
          "output_type": "stream",
          "text": [
            "108000/108000 [==============================] - 34s 315us/step - loss: 0.8395 - val_loss: 2.1458\n",
            "Epoch 145/150\n",
            "108000/108000 [==============================] - 34s 314us/step - loss: 0.8403 - val_loss: 2.1113\n",
            "Epoch 146/150\n",
            " 18176/108000 [====>.........................] - ETA: 26s - loss: 0.7981"
          ],
          "name": "stdout"
        },
        {
          "output_type": "stream",
          "text": [
            "108000/108000 [==============================] - 34s 316us/step - loss: 0.8436 - val_loss: 2.1136\n",
            "Epoch 147/150\n",
            "103936/108000 [===========================>..] - ETA: 1s - loss: 0.8376"
          ],
          "name": "stdout"
        },
        {
          "output_type": "stream",
          "text": [
            "108000/108000 [==============================] - 34s 318us/step - loss: 0.8393 - val_loss: 2.1551\n",
            "Epoch 148/150\n",
            "108000/108000 [==============================] - 35s 323us/step - loss: 0.8429 - val_loss: 2.1297\n",
            "Epoch 149/150\n",
            " 18176/108000 [====>.........................] - ETA: 28s - loss: 0.7835"
          ],
          "name": "stdout"
        },
        {
          "output_type": "stream",
          "text": [
            "108000/108000 [==============================] - 35s 326us/step - loss: 0.8421 - val_loss: 2.1274\n",
            "Epoch 150/150\n",
            "103936/108000 [===========================>..] - ETA: 1s - loss: 0.8387"
          ],
          "name": "stdout"
        },
        {
          "output_type": "stream",
          "text": [
            "108000/108000 [==============================] - 35s 325us/step - loss: 0.8405 - val_loss: 2.1116\n"
          ],
          "name": "stdout"
        }
      ]
    },
    {
      "metadata": {
        "id": "i8igOnadZGmg",
        "colab_type": "code",
        "colab": {
          "autoexec": {
            "startup": false,
            "wait_interval": 0
          },
          "base_uri": "https://localhost:8080/",
          "height": 280
        },
        "outputId": "634065b0-78cd-4828-81a3-8072f8e8e1d3",
        "executionInfo": {
          "status": "ok",
          "timestamp": 1532341716140,
          "user_tz": -330,
          "elapsed": 1105,
          "user": {
            "displayName": "Arth Dh",
            "photoUrl": "//lh5.googleusercontent.com/-k3dUymHUDVw/AAAAAAAAAAI/AAAAAAAANZs/XNCIjM0QmZU/s50-c-k-no/photo.jpg",
            "userId": "110320452319374550954"
          }
        }
      },
      "cell_type": "code",
      "source": [
        "import matplotlib.pyplot as plt\n",
        "loss = history.history['loss']\n",
        "val_loss = history.history['val_loss']\n",
        "epochs = range(1, len(loss) + 1)\n",
        "plt.figure()\n",
        "plt.plot(epochs, loss, 'bo', label='Training loss')\n",
        "plt.plot(epochs, val_loss, 'b', label='Validation loss')\n",
        "plt.title('Training and validation loss')\n",
        "plt.legend()\n",
        "plt.show()"
      ],
      "execution_count": 177,
      "outputs": [
        {
          "output_type": "display_data",
          "data": {
            "image/png": "[encoded data removed]",
            "text/plain": [
              "<matplotlib.figure.Figure at 0x7fc4e518e7b8>"
            ]
          },
          "metadata": {
            "tags": []
          }
        }
      ]
    },
    {
      "metadata": {
        "id": "-RtAQwD9BrP7",
        "colab_type": "code",
        "colab": {
          "autoexec": {
            "startup": false,
            "wait_interval": 0
          }
        }
      },
      "cell_type": "code",
      "source": [
        "def sample(preds, temperature= 0.2):\n",
        "    preds = np.reshape(preds,preds.shape[-1])\n",
        "    preds = np.asarray(preds).astype('float64')\n",
        "    preds = np.log(preds)/ temperature\n",
        "    exp_preds = np.exp(preds)\n",
        "    preds = exp_preds / np.sum(exp_preds)\n",
        "    probas = np.random.multinomial(1,preds, 1)\n",
        "    return np.argmax(probas)"
      ],
      "execution_count": 0,
      "outputs": []
    },
    {
      "metadata": {
        "id": "_TF9gp-iuSYe",
        "colab_type": "code",
        "colab": {
          "autoexec": {
            "startup": false,
            "wait_interval": 0
          }
        }
      },
      "cell_type": "code",
      "source": [
        "def inference(sent):\n",
        "  string_length=20\n",
        "  string_revised=sent.ljust(string_length)\n",
        "  return string_revised"
      ],
      "execution_count": 0,
      "outputs": []
    },
    {
      "metadata": {
        "id": "eK4fkkhpZHEo",
        "colab_type": "code",
        "colab": {
          "autoexec": {
            "startup": false,
            "wait_interval": 0
          },
          "base_uri": "https://localhost:8080/",
          "height": 153
        },
        "outputId": "ebb22d68-0d25-407d-f82a-6246c2bf1048",
        "executionInfo": {
          "status": "ok",
          "timestamp": 1532343281102,
          "user_tz": -330,
          "elapsed": 7741,
          "user": {
            "displayName": "Arth Dh",
            "photoUrl": "//lh5.googleusercontent.com/-k3dUymHUDVw/AAAAAAAAAAI/AAAAAAAANZs/XNCIjM0QmZU/s50-c-k-no/photo.jpg",
            "userId": "110320452319374550954"
          }
        }
      },
      "cell_type": "code",
      "source": [
        "start_word=\"lives\"\n",
        "inference_text = inference(start_word)\n",
        "\n",
        "for temperature in [0.2, 0.5, 1.0, 1.2]:\n",
        "    print('------ temperature:', temperature)\n",
        "    sys.stdout.write(inference_text.strip()+\" \")\n",
        "    generated_text = inference_text[:20]+\"\"\n",
        "    for i in range(100):\n",
        "      sampled = np.zeros((1, max_len, len(word_index)))\n",
        "      for t, char in enumerate(generated_text):\n",
        "          sampled[0, t, word_index[char]] = 1.\n",
        "      preds = model.predict(sampled, verbose=0)[0]\n",
        "      next_index = sample(preds, temperature)\n",
        "      next_char = index2char[next_index]\n",
        "      generated_text += next_char\n",
        "      generated_text = generated_text[1:]\n",
        "      sys.stdout.write(next_char)\n",
        "    print()"
      ],
      "execution_count": 238,
      "outputs": [
        {
          "output_type": "stream",
          "text": [
            "------ temperature: 0.2\n",
            "lives of the world in the world alone, the past perace, that it can do it alone, and the reason and the do\n",
            "------ temperature: 0.5\n",
            "lives to so them. I've used the best areh, that I wanted to be alone that I was a really didn't ment a sho\n",
            "------ temperature: 1.0\n",
            "lives by anger may had the reason that is still even people to the day when you be good thing I find that \n",
            "------ temperature: 1.2\n",
            "lives is callage creatamiks now. , thy Hounriple about the young pleHon late way. Amerates have of Newb.yr\n"
          ],
          "name": "stdout"
        }
      ]
    }
  ]
}